{
 "cells": [
  {
   "cell_type": "markdown",
   "metadata": {},
   "source": [
    "# Problem Set 5\n",
    "By: Bethany Bailey\n",
    "## Problem 1\n",
    "### (a)"
   ]
  },
  {
   "cell_type": "code",
   "execution_count": 86,
   "metadata": {
    "collapsed": true
   },
   "outputs": [],
   "source": [
    "# Import libraries\n",
    "import numpy as np\n",
    "import pandas as pd\n",
    "import scipy.stats as sts\n",
    "from scipy.stats import norm\n",
    "import scipy.optimize as opt\n",
    "import scipy.special as sp\n",
    "import scipy.integrate as integrate\n",
    "import matplotlib.pyplot as plt\n",
    "import math"
   ]
  },
  {
   "cell_type": "code",
   "execution_count": 8,
   "metadata": {
    "collapsed": true
   },
   "outputs": [],
   "source": [
    "# Load data into array and dataframe\n",
    "data = np.loadtxt('clms.txt', delimiter=\",\")\n",
    "df = pd.read_csv('clms.txt', header=None)"
   ]
  },
  {
   "cell_type": "code",
   "execution_count": 10,
   "metadata": {},
   "outputs": [
    {
     "data": {
      "text/html": [
       "<div>\n",
       "<style>\n",
       "    .dataframe thead tr:only-child th {\n",
       "        text-align: right;\n",
       "    }\n",
       "\n",
       "    .dataframe thead th {\n",
       "        text-align: left;\n",
       "    }\n",
       "\n",
       "    .dataframe tbody tr th {\n",
       "        vertical-align: top;\n",
       "    }\n",
       "</style>\n",
       "<table border=\"1\" class=\"dataframe\">\n",
       "  <thead>\n",
       "    <tr style=\"text-align: right;\">\n",
       "      <th></th>\n",
       "      <th>0</th>\n",
       "    </tr>\n",
       "  </thead>\n",
       "  <tbody>\n",
       "    <tr>\n",
       "      <th>count</th>\n",
       "      <td>10619.000000</td>\n",
       "    </tr>\n",
       "    <tr>\n",
       "      <th>mean</th>\n",
       "      <td>720.277975</td>\n",
       "    </tr>\n",
       "    <tr>\n",
       "      <th>std</th>\n",
       "      <td>3972.850824</td>\n",
       "    </tr>\n",
       "    <tr>\n",
       "      <th>min</th>\n",
       "      <td>0.010000</td>\n",
       "    </tr>\n",
       "    <tr>\n",
       "      <th>25%</th>\n",
       "      <td>74.450000</td>\n",
       "    </tr>\n",
       "    <tr>\n",
       "      <th>50%</th>\n",
       "      <td>172.210000</td>\n",
       "    </tr>\n",
       "    <tr>\n",
       "      <th>75%</th>\n",
       "      <td>451.535000</td>\n",
       "    </tr>\n",
       "    <tr>\n",
       "      <th>max</th>\n",
       "      <td>227967.250000</td>\n",
       "    </tr>\n",
       "  </tbody>\n",
       "</table>\n",
       "</div>"
      ],
      "text/plain": [
       "                   0\n",
       "count   10619.000000\n",
       "mean      720.277975\n",
       "std      3972.850824\n",
       "min         0.010000\n",
       "25%        74.450000\n",
       "50%       172.210000\n",
       "75%       451.535000\n",
       "max    227967.250000"
      ]
     },
     "execution_count": 10,
     "metadata": {},
     "output_type": "execute_result"
    }
   ],
   "source": [
    "# Calculate and report the mean, median, maximum, minimum, and stan- dard deviation of monthly\n",
    "# health expenditures for these data.\n",
    "df.describe()"
   ]
  },
  {
   "cell_type": "code",
   "execution_count": 13,
   "metadata": {},
   "outputs": [
    {
     "data": {
      "image/png": "[encoded data removed]",
      "text/plain": [
       "<matplotlib.figure.Figure at 0x10a0a8be0>"
      ]
     },
     "metadata": {},
     "output_type": "display_data"
    }
   ],
   "source": [
    "# Plot two histograms of the data in which the y-axis gives the percent of observations \n",
    "# in the particular bin of health expenditures and the x-axis gives the value of \n",
    "# monthly health expenditures.\n",
    "plt.figure(figsize=(10, 10))\n",
    "\n",
    "weights = (1 / data.shape[0]) * np.ones_like(data)\n",
    "\n",
    "plt.subplot(2, 1, 1)\n",
    "plt.hist(data, bins=1000, weights=weights)\n",
    "plt.title('Health Expenditures Histogram')\n",
    "plt.xlabel('Value of Expenditure ($)')\n",
    "plt.ylabel('Percent Frequency')\n",
    "\n",
    "plt.subplot(2, 1, 2)\n",
    "plt.hist(data, bins=100, range=(0, 800), weights=weights)\n",
    "plt.xlim(0, 800)\n",
    "plt.title('Health Expenditures Histogram (<=$800)')\n",
    "plt.xlabel('Value of Expenditure ($)')\n",
    "plt.ylabel('Percent Frequency')\n",
    "\n",
    "plt.show()"
   ]
  },
  {
   "cell_type": "markdown",
   "metadata": {},
   "source": [
    "We might prefer the second histogram because it gives us a much better idea of the distribution of the data. It removes outliers but still covers most of the data."
   ]
  },
  {
   "cell_type": "markdown",
   "metadata": {},
   "source": [
    "### (b)"
   ]
  },
  {
   "cell_type": "code",
   "execution_count": 66,
   "metadata": {
    "collapsed": true
   },
   "outputs": [],
   "source": [
    "# Define functions\n",
    "def gam_pdf(x, alpha, beta): \n",
    "    '''Find the gamma prob dist for given data.'''\n",
    "    pdf = (1 / (beta ** alpha * math.gamma(alpha))) * x ** (alpha - 1) * np.exp(-1 * x / beta)\n",
    "    return pdf\n",
    "    \n",
    "def log_lik_gam(xvals, alpha, beta):\n",
    "    '''Find the log likelihood of the gamma pdf for given data.'''\n",
    "    pdf_vals = gam_pdf(xvals, alpha, beta)\n",
    "    ln_pdf_vals = np.log(pdf_vals)\n",
    "    log_lik_val = ln_pdf_vals.sum()\n",
    "    return log_lik_val\n",
    "\n",
    "def crit_gam(params, *args):\n",
    "    '''Compute the negative of the log likelihood function\n",
    "    given parameters and data.'''\n",
    "    a, b = params\n",
    "    x = args[0]\n",
    "    log_lik_val = log_lik_gam(x, a, b)\n",
    "    neg_log_lik_val = -log_lik_val\n",
    "    return -log_lik_val"
   ]
  },
  {
   "cell_type": "code",
   "execution_count": 67,
   "metadata": {
    "collapsed": true
   },
   "outputs": [],
   "source": [
    "# Initial guesses \n",
    "b_init = data.var()/data.mean()\n",
    "a_init = data.mean()/ b_init\n",
    "params_init = np.array([a_init, b_init])"
   ]
  },
  {
   "cell_type": "code",
   "execution_count": 68,
   "metadata": {},
   "outputs": [
    {
     "name": "stdout",
     "output_type": "stream",
     "text": [
      "alpha_MLE= 0.221755318824\n",
      "beta_MLE= 21911.0646993\n",
      "MLE log-likelihood:  -82076.4516057\n"
     ]
    }
   ],
   "source": [
    "results = opt.minimize(crit_gam, params_init, args=data, \n",
    "                       method ='L-BFGS-B', bounds=((1e-5, None), (1e-5, None)))\n",
    "alpha_MLE, beta_MLE = results.x\n",
    "print('alpha_MLE=', alpha_MLE)\n",
    "print('beta_MLE=', beta_MLE)\n",
    "MLE_ga = log_lik_gam(data, alpha_MLE, beta_MLE)\n",
    "print('MLE log-likelihood: ', MLE_ga)"
   ]
  },
  {
   "cell_type": "code",
   "execution_count": 69,
   "metadata": {},
   "outputs": [
    {
     "data": {
      "image/png": "[encoded data removed]",
      "text/plain": [
       "<matplotlib.figure.Figure at 0x1a16a4a748>"
      ]
     },
     "metadata": {},
     "output_type": "display_data"
    }
   ],
   "source": [
    "x = np.linspace(1e-5, 800, 100)\n",
    "plt.plot(x, 8 * gamma_pdf(x, alpha_MLE, beta_MLE), lw=3)\n",
    "mask = data <= 800\n",
    "plt.hist(data[mask], 100, weights=weights[mask], edgecolor='k')\n",
    "plt.ylim(0, 0.05)\n",
    "plt.title('Health Expenditures Histogram (<=$800) w/ MLE')\n",
    "plt.xlabel('Value of Expenditure ($)')\n",
    "plt.ylabel('Percent Frequency')\n",
    "plt.show()"
   ]
  },
  {
   "cell_type": "markdown",
   "metadata": {},
   "source": [
    "### (c)"
   ]
  },
  {
   "cell_type": "code",
   "execution_count": 39,
   "metadata": {
    "collapsed": true
   },
   "outputs": [],
   "source": [
    "# Define functions for generalized gamma\n",
    "def gg_pdf(x, alpha, beta, m): \n",
    "    '''Find the generalized gamma prob dist for given data.'''\n",
    "    f = (m / (beta ** alpha * math.gamma(alpha / m))) * x ** (alpha - 1) * np.exp( -1 * (x / beta) ** m)\n",
    "    return f\n",
    "    \n",
    "def log_lik_GG(xvals, alpha, beta, m):\n",
    "    '''Find the generalized log likelihood of the gamma pdf for given data.'''\n",
    "    pdf_vals = gg_pdf(xvals, alpha, beta, m)\n",
    "    ln_pdf_vals = np.log(pdf_vals)\n",
    "    log_lik_val = ln_pdf_vals.sum()\n",
    "    return log_lik_val\n",
    "\n",
    "def crit_GG(params, *args):\n",
    "    '''Compute the negative of the log likelihood function\n",
    "    given parameters and data for the generalized gamma.'''\n",
    "    alpha, beta, m = params\n",
    "    xvals = args[0]\n",
    "    log_lik_val = log_lik_GG(xvals, alpha, beta, m)\n",
    "    neg_log_lik_val = -log_lik_val\n",
    "    return neg_log_lik_val"
   ]
  },
  {
   "cell_type": "code",
   "execution_count": 41,
   "metadata": {
    "collapsed": true
   },
   "outputs": [],
   "source": [
    "# Initial guesses\n",
    "beta_init = beta_MLE\n",
    "alpha_init = alpha_MLE\n",
    "m_init = 1\n",
    "params_init_GG = np.array([alpha_init, beta_init, m_init])"
   ]
  },
  {
   "cell_type": "code",
   "execution_count": 42,
   "metadata": {},
   "outputs": [
    {
     "name": "stdout",
     "output_type": "stream",
     "text": [
      "alpha_MLE_GG= 0.221764850189 , beta_MLE_GG= 21911.0644282 , m_MLE_GG= 0.997072924587\n",
      "MLE log-likelihood:  -82076.4467958\n"
     ]
    }
   ],
   "source": [
    "results_GG = opt.minimize(crit_GG, params_init_GG, args=data, \n",
    "                       method ='L-BFGS-B', bounds=((1e-5, None), (1e-5, None), (1e-5, None)))\n",
    "alpha_MLE_GG, beta_MLE_GG, m_MLE_GG = results_GG.x\n",
    "print('alpha_MLE_GG=', alpha_MLE_GG, ', beta_MLE_GG=', beta_MLE_GG, ', m_MLE_GG=', m_MLE_GG)\n",
    "MLE_GG = log_lik_GG(data, alpha_MLE_GG, beta_MLE_GG, m_MLE_GG)\n",
    "print('MLE log-likelihood: ', MLE_GG)"
   ]
  },
  {
   "cell_type": "code",
   "execution_count": 44,
   "metadata": {},
   "outputs": [
    {
     "data": {
      "image/png": "[encoded data removed]",
      "text/plain": [
       "<matplotlib.figure.Figure at 0x1a16ccd630>"
      ]
     },
     "metadata": {},
     "output_type": "display_data"
    }
   ],
   "source": [
    "plt.plot(x, 8 * gamma_pdf(x, alpha_MLE, beta_MLE), lw=3, label=\"GA MLE\")\n",
    "plt.plot(x, 8 * gg_pdf(x, alpha_MLE_GG, beta_MLE_GG, m_MLE_GG), lw=3, label=\"GG MLE\")\n",
    "mask = data <= 800\n",
    "plt.hist(data[mask], 100, weights=weights[mask], edgecolor='k')\n",
    "plt.ylim(0, 0.05)\n",
    "plt.title('Health Expenditures Histogram (<=$800) w/ MLE')\n",
    "plt.xlabel('Value of Expenditure ($)')\n",
    "plt.ylabel('Percent Frequency')\n",
    "plt.legend()\n",
    "plt.show()"
   ]
  },
  {
   "cell_type": "markdown",
   "metadata": {},
   "source": [
    "### (d)"
   ]
  },
  {
   "cell_type": "code",
   "execution_count": 55,
   "metadata": {
    "collapsed": true
   },
   "outputs": [],
   "source": [
    "# Define functions for generalized beta 2\n",
    "def GB2_pdf(x, a, b, p, q): \n",
    "    '''Find the generalized beta 2 prob dist for given data.'''\n",
    "    f = a * (x ** (a*p-1)) / ((b ** (a*p)) * sp.beta(p,q) * ((1 + (x / b) ** a) ** (p + q)))\n",
    "    return f\n",
    "    \n",
    "def log_lik_GB2(xvals, a, b, p, q):\n",
    "    '''Find the generalized log likelihood of the generalized beta 2 for given data.'''\n",
    "    pdf_vals = GB2_pdf(xvals, a, b, p, q)\n",
    "    ln_pdf_vals = np.log(pdf_vals)\n",
    "    log_lik_val = ln_pdf_vals.sum()\n",
    "    return log_lik_val\n",
    "\n",
    "def crit_GB2(params, *args):\n",
    "    '''Compute the negative of the log likelihood function\n",
    "    given parameters and data for the generalized beta 2.'''\n",
    "    a, b, p, q = params\n",
    "    xvals = args[0]\n",
    "    log_lik_val = log_lik_GB2(xvals, a, b, p, q)\n",
    "    neg_log_lik_val = -log_lik_val\n",
    "    return neg_log_lik_val"
   ]
  },
  {
   "cell_type": "code",
   "execution_count": 56,
   "metadata": {},
   "outputs": [],
   "source": [
    "# Initial guesses\n",
    "q_init_gb2 = 200\n",
    "b_init_gb2 = (q_init_gb2**(1 / m_MLE_GG))*beta_MLE_GG\n",
    "a_init_gb2 = m_MLE_GG\n",
    "p_init_gb2 = alpha_MLE_GG / m_MLE_GG\n",
    "params_init_gb2 = np.array([a_init_gb2, b_init_gb2, p_init_gb2, q_init_gb2])"
   ]
  },
  {
   "cell_type": "code",
   "execution_count": 61,
   "metadata": {},
   "outputs": [
    {
     "name": "stdout",
     "output_type": "stream",
     "text": [
      "alpha_MLE_GB2= 0.104423946253 , beta_MLE_GB2= 4450907.19077\n",
      "m_MLE_GB2= 54.6366357148 ,q_MLE_GB2= 155.687194434\n",
      "MLE log-likelihood:  -74876.0473853\n"
     ]
    }
   ],
   "source": [
    "results_gb2 = opt.minimize(crit_GB2, params_init_gb2, args=data, \n",
    "                       method ='L-BFGS-B', bounds=((1e-5, None), (1e-5, None), (1e-5, None), (1e-5, None)))\n",
    "alpha_MLE_GB2, beta_MLE_GB2, m_MLE_GB2, q_MLE_GB2 = results_gb2.x\n",
    "print('alpha_MLE_GB2=', alpha_MLE_GB2, ', beta_MLE_GB2=', beta_MLE_GB2)\n",
    "print('m_MLE_GB2=', m_MLE_GB2, ',q_MLE_GB2=', q_MLE_GB2)\n",
    "MLE_GB2 = log_lik_GB2(data, alpha_MLE_GB2, beta_MLE_GB2, m_MLE_GB2, q_MLE_GB2)\n",
    "print('MLE log-likelihood: ', MLE_GB2)"
   ]
  },
  {
   "cell_type": "code",
   "execution_count": 62,
   "metadata": {},
   "outputs": [
    {
     "data": {
      "image/png": "[encoded data removed]",
      "text/plain": [
       "<matplotlib.figure.Figure at 0x1a1670dac8>"
      ]
     },
     "metadata": {},
     "output_type": "display_data"
    }
   ],
   "source": [
    "plt.plot(x, 8 * gamma_pdf(x, alpha_MLE, beta_MLE), lw=3, label=\"GA MLE\")\n",
    "plt.plot(x, 8 * gg_pdf(x, alpha_MLE_GG, beta_MLE_GG, m_MLE_GG), lw=3, label=\"GG MLE\")\n",
    "plt.plot(x, 8 * GB2_pdf(x, alpha_MLE_GB2, beta_MLE_GB2, m_MLE_GB2, q_MLE_GB2), lw=3, label=\"GB2 MLE\")\n",
    "mask = data <= 800\n",
    "plt.hist(data[mask], 100, weights=weights[mask], edgecolor='k')\n",
    "plt.ylim(0, 0.05)\n",
    "plt.title('Health Expenditures Histogram (<=$800) w/ MLE')\n",
    "plt.xlabel('Value of Expenditure ($)')\n",
    "plt.ylabel('Percent Frequency')\n",
    "plt.legend()\n",
    "plt.show()"
   ]
  },
  {
   "cell_type": "markdown",
   "metadata": {},
   "source": [
    "### (e)"
   ]
  },
  {
   "cell_type": "code",
   "execution_count": 63,
   "metadata": {
    "collapsed": true
   },
   "outputs": [],
   "source": [
    "# Define likelihood ratio test function\n",
    "def likelihood_ratio_test(lmin, lmax):\n",
    "    return(2*abs((lmax-lmin)))"
   ]
  },
  {
   "cell_type": "code",
   "execution_count": 71,
   "metadata": {},
   "outputs": [
    {
     "name": "stdout",
     "output_type": "stream",
     "text": [
      "chi-squared of GA (b) with GB2 (d) and 4 degrees of freedom, p-value =  0.0\n",
      "chi-squared of GG (c) with GB2 (d) and 4 degrees of freedom, p-value =  0.0\n"
     ]
    }
   ],
   "source": [
    "LR1 = likelihood_ratio_test(MLE_ga, MLE_GB2)\n",
    "p1 = 1 - sts.chi2.cdf(LR1, 4) \n",
    "\n",
    "LR2 = likelihood_ratio_test(MLE_GG, MLE_GB2)\n",
    "p2 = 1 - sts.chi2.cdf(LR2, 4)\n",
    "\n",
    "print('chi-squared of GA (b) with GB2 (d) and 4 degrees of freedom, p-value = ', p1)\n",
    "print('chi-squared of GG (c) with GB2 (d) and 4 degrees of freedom, p-value = ', p2)"
   ]
  },
  {
   "cell_type": "markdown",
   "metadata": {},
   "source": [
    "### (f)"
   ]
  },
  {
   "cell_type": "code",
   "execution_count": 78,
   "metadata": {},
   "outputs": [
    {
     "name": "stdout",
     "output_type": "stream",
     "text": [
      "The probability using GB2 estimation of healthcare claim above $1000 is 0.13166906160951763\n",
      "The probability using GA estimation of healthcare claim above $1000 is 0.45197465310799084\n"
     ]
    }
   ],
   "source": [
    "# Find likelihood of having a monthly health care claim of more than $1,000\n",
    "prob_GB2_1000 = integrate.quad(GB2_pdf,1000, np.inf, args = (alpha_MLE_GB2, beta_MLE_GB2, m_MLE_GB2, q_MLE_GB2))                                                             \n",
    "prob_GA_1000 = integrate.quad(gam_pdf, 1000, np.inf, args = (alpha_MLE_GG, beta_MLE_GG))\n",
    "\n",
    "print(\"The probability using GB2 estimation of healthcare claim above $1000 is\", prob_GB2_1000[0])\n",
    "print(\"The probability using GA estimation of healthcare claim above $1000 is\", prob_GA_1000[0])"
   ]
  },
  {
   "cell_type": "markdown",
   "metadata": {},
   "source": [
    "## Problem 2\n",
    "### (a)"
   ]
  },
  {
   "cell_type": "code",
   "execution_count": 83,
   "metadata": {},
   "outputs": [
    {
     "data": {
      "text/html": [
       "<div>\n",
       "<style>\n",
       "    .dataframe thead tr:only-child th {\n",
       "        text-align: right;\n",
       "    }\n",
       "\n",
       "    .dataframe thead th {\n",
       "        text-align: left;\n",
       "    }\n",
       "\n",
       "    .dataframe tbody tr th {\n",
       "        vertical-align: top;\n",
       "    }\n",
       "</style>\n",
       "<table border=\"1\" class=\"dataframe\">\n",
       "  <thead>\n",
       "    <tr style=\"text-align: right;\">\n",
       "      <th></th>\n",
       "      <th>0</th>\n",
       "      <th>1</th>\n",
       "      <th>2</th>\n",
       "      <th>3</th>\n",
       "      <th>4</th>\n",
       "    </tr>\n",
       "  </thead>\n",
       "  <tbody>\n",
       "    <tr>\n",
       "      <th>0</th>\n",
       "      <td>1.128323e+07</td>\n",
       "      <td>8.040697e+06</td>\n",
       "      <td>1.120211e+07</td>\n",
       "      <td>1.008852</td>\n",
       "      <td>1.931398e+07</td>\n",
       "    </tr>\n",
       "    <tr>\n",
       "      <th>1</th>\n",
       "      <td>1.215464e+07</td>\n",
       "      <td>8.030754e+06</td>\n",
       "      <td>1.206726e+07</td>\n",
       "      <td>1.088112</td>\n",
       "      <td>2.080561e+07</td>\n",
       "    </tr>\n",
       "    <tr>\n",
       "      <th>2</th>\n",
       "      <td>1.097303e+07</td>\n",
       "      <td>8.650974e+06</td>\n",
       "      <td>1.089414e+07</td>\n",
       "      <td>0.911904</td>\n",
       "      <td>1.878300e+07</td>\n",
       "    </tr>\n",
       "    <tr>\n",
       "      <th>3</th>\n",
       "      <td>9.711635e+06</td>\n",
       "      <td>7.809971e+06</td>\n",
       "      <td>9.641815e+06</td>\n",
       "      <td>0.893986</td>\n",
       "      <td>1.662382e+07</td>\n",
       "    </tr>\n",
       "    <tr>\n",
       "      <th>4</th>\n",
       "      <td>9.245673e+06</td>\n",
       "      <td>6.912184e+06</td>\n",
       "      <td>9.179203e+06</td>\n",
       "      <td>0.961637</td>\n",
       "      <td>1.582621e+07</td>\n",
       "    </tr>\n",
       "  </tbody>\n",
       "</table>\n",
       "</div>"
      ],
      "text/plain": [
       "              0             1             2         3             4\n",
       "0  1.128323e+07  8.040697e+06  1.120211e+07  1.008852  1.931398e+07\n",
       "1  1.215464e+07  8.030754e+06  1.206726e+07  1.088112  2.080561e+07\n",
       "2  1.097303e+07  8.650974e+06  1.089414e+07  0.911904  1.878300e+07\n",
       "3  9.711635e+06  7.809971e+06  9.641815e+06  0.893986  1.662382e+07\n",
       "4  9.245673e+06  6.912184e+06  9.179203e+06  0.961637  1.582621e+07"
      ]
     },
     "execution_count": 83,
     "metadata": {},
     "output_type": "execute_result"
    }
   ],
   "source": [
    "# Load data\n",
    "macro = pd.read_csv('MacroSeries.txt', header=None)\n",
    "macro.head()"
   ]
  },
  {
   "cell_type": "code",
   "execution_count": 84,
   "metadata": {
    "collapsed": true
   },
   "outputs": [],
   "source": [
    "macro.columns = ['c', 'k', 'w', 'r', 'y']"
   ]
  },
  {
   "cell_type": "code",
   "execution_count": 93,
   "metadata": {
    "collapsed": true
   },
   "outputs": [],
   "source": [
    "# Define Equations\n",
    "def get_z(w, k, alpha):\n",
    "    z = np.log(w) - np.log(1 - alpha) - alpha * np.log(k)\n",
    "    return z\n",
    "\n",
    "def log_pdf(z, rho, mu, sigma):\n",
    "    z[0] = mu\n",
    "    mean = rho * z[:-1] + (1 - rho) * mu\n",
    "    log_lik_vals = norm.logpdf(z, np.hstack([mu, mean]), sigma)\n",
    "    return log_lik_vals\n",
    "\n",
    "def crit1(params, *args):\n",
    "    alpha, rho, mu, sigma = params\n",
    "    w, k  = args\n",
    "    neg_log_lik_vals = -(log_pdf(get_z(w, k, alpha), rho, mu, sigma).sum())\n",
    "    \n",
    "    return neg_log_lik_vals"
   ]
  },
  {
   "cell_type": "code",
   "execution_count": 97,
   "metadata": {
    "collapsed": true
   },
   "outputs": [],
   "source": [
    "# Set initial parameters\n",
    "alpha_init = 0.5\n",
    "rho_init = 0.5\n",
    "mu_init = 5\n",
    "sigma_init = 0.8\n",
    "params_init = (alpha_init, rho_init, mu_init, sigma_init)"
   ]
  },
  {
   "cell_type": "code",
   "execution_count": 98,
   "metadata": {},
   "outputs": [
    {
     "name": "stdout",
     "output_type": "stream",
     "text": [
      "      fun: -95.552985176292296\n",
      " hess_inv: <4x4 LbfgsInvHessProduct with dtype=float64>\n",
      "      jac: array([ -1.88435934e-03,   6.67910172e-05,  -1.66267000e-04,\n",
      "         2.03215222e-03])\n",
      "  message: b'CONVERGENCE: REL_REDUCTION_OF_F_<=_FACTR*EPSMCH'\n",
      "     nfev: 240\n",
      "      nit: 26\n",
      "   status: 0\n",
      "  success: True\n",
      "        x: array([ 0.85064973,  0.5175133 ,  4.56658664,  0.09306403])\n",
      "alpha_MLE=  0.850649734821 \n",
      "rho_MLE=  0.517513304803 \n",
      "mu_MLE= 4.56658663914  \n",
      "sig_MLE= 0.0930640333533\n",
      "Log-likelihood=  -95.5529851763\n"
     ]
    }
   ],
   "source": [
    "mle_args = (macro.w, macro.k)\n",
    "results = opt.minimize(crit1, params_init, args=mle_args, method ='L-BFGS-B', \n",
    "                             bounds=((1e-2, 0.99), (-0.99, 0.99), (1e-2, None), (1e-2, None)))\n",
    "alpha_MLE, rho_MLE, mu_MLE, sig_MLE = results.x\n",
    "log_like_val = results.fun\n",
    "print(results)\n",
    "print('alpha_MLE= ', alpha_MLE, '\\nrho_MLE= ', rho_MLE, '\\nmu_MLE=', mu_MLE, ' \\nsig_MLE=', sig_MLE)\n",
    "print('Log-likelihood= ', results.fun)"
   ]
  },
  {
   "cell_type": "code",
   "execution_count": 99,
   "metadata": {},
   "outputs": [
    {
     "name": "stdout",
     "output_type": "stream",
     "text": [
      "[[  2.31498117e+01   2.09055780e+01  -1.95680744e+02   3.72699727e+00]\n",
      " [  2.09055780e+01   1.95392818e+01  -1.76612711e+02   3.44898442e+00]\n",
      " [ -1.95680744e+02  -1.76612711e+02   1.65406628e+03  -3.14914392e+01]\n",
      " [  3.72699727e+00   3.44898442e+00  -3.14914392e+01   6.10781894e-01]]\n"
     ]
    }
   ],
   "source": [
    "# Report the inverse hessian variance-covariance matrix of your estimates.\n",
    "vcv_mle = results.hess_inv.todense()\n",
    "print(vcv_mle)"
   ]
  },
  {
   "cell_type": "markdown",
   "metadata": {},
   "source": [
    "### (b)"
   ]
  },
  {
   "cell_type": "code",
   "execution_count": 105,
   "metadata": {
    "collapsed": true
   },
   "outputs": [],
   "source": [
    "# Define equations\n",
    "def get_z_2(r, k, alpha):\n",
    "    z = np.log(r) - np.log(alpha) - (alpha - 1) * np.log(k)\n",
    "    return z\n",
    "\n",
    "def crit2(params, *args):\n",
    "    alpha, rho, mu, sigma = params\n",
    "    r, k  = args\n",
    "    neg_log_lik_vals = -(log_pdf(get_z_2(r, k, alpha), rho, mu, sigma).sum())\n",
    "    return neg_log_lik_vals"
   ]
  },
  {
   "cell_type": "code",
   "execution_count": 110,
   "metadata": {
    "collapsed": true
   },
   "outputs": [],
   "source": [
    "# Set initial parameters\n",
    "alpha_init = 0.5\n",
    "rho_init = 0.5\n",
    "mu_init = 5\n",
    "sigma_init = 0.8\n",
    "params_init2 = (alpha_init, rho_init, mu_init, sigma_init)"
   ]
  },
  {
   "cell_type": "code",
   "execution_count": 111,
   "metadata": {},
   "outputs": [
    {
     "name": "stdout",
     "output_type": "stream",
     "text": [
      "      fun: -95.552985137478089\n",
      " hess_inv: <4x4 LbfgsInvHessProduct with dtype=float64>\n",
      "      jac: array([  1.18660637e-03,   1.13686838e-05,   6.82121026e-05,\n",
      "        -4.37694325e-04])\n",
      "  message: b'CONVERGENCE: REL_REDUCTION_OF_F_<=_FACTR*EPSMCH'\n",
      "     nfev: 290\n",
      "      nit: 32\n",
      "   status: 0\n",
      "  success: True\n",
      "        x: array([ 0.85063439,  0.517531  ,  2.50436565,  0.09306393])\n",
      "alpha_MLE=  0.850634390503 \n",
      "rho_MLE=  0.517531003117 \n",
      "mu_MLE= 2.50436564995  \n",
      "sig_MLE= 0.0930639262685\n",
      "Log-likelihood=  -95.5529851375\n"
     ]
    }
   ],
   "source": [
    "mle_args2 = (macro.r, macro.k)\n",
    "results2 = opt.minimize(crit2, params_init2, args=mle_args2, method ='L-BFGS-B', \n",
    "                             bounds=((1e-2, 0.99), (-0.99, 0.99), (1e-2, None), (1e-2, None)))\n",
    "alpha_MLE2, rho_MLE2, mu_MLE2, sig_MLE2 = results2.x\n",
    "log_like_val = results2.fun\n",
    "print(results2)\n",
    "print('alpha_MLE= ', alpha_MLE2, '\\nrho_MLE= ', rho_MLE2, '\\nmu_MLE=', mu_MLE2, ' \\nsig_MLE=', sig_MLE2)\n",
    "print('Log-likelihood= ', results2.fun)"
   ]
  },
  {
   "cell_type": "code",
   "execution_count": 112,
   "metadata": {},
   "outputs": [
    {
     "name": "stdout",
     "output_type": "stream",
     "text": [
      "[[  8.32738728e+00  -5.81136502e+00  -1.42158800e+02   7.95719904e-02]\n",
      " [ -5.81136502e+00   6.41651255e+00   9.92474406e+01  -2.70790589e-01]\n",
      " [ -1.42158800e+02   9.92474406e+01   2.42682798e+03  -1.36215629e+00]\n",
      " [  7.95719904e-02  -2.70790589e-01  -1.36215629e+00   2.05129924e-02]]\n"
     ]
    }
   ],
   "source": [
    "# Report the inverse hessian variance-covariance matrix of your estimates.\n",
    "vcv_mle2 = results2.hess_inv.todense()\n",
    "print(vcv_mle2)"
   ]
  },
  {
   "cell_type": "markdown",
   "metadata": {},
   "source": [
    "### (c)"
   ]
  },
  {
   "cell_type": "code",
   "execution_count": 117,
   "metadata": {},
   "outputs": [
    {
     "name": "stdout",
     "output_type": "stream",
     "text": [
      "CDF value: 0.0 , Probability: 1.0\n"
     ]
    }
   ],
   "source": [
    "z_star = get_z_2(1, 7500000, alpha_MLE2)\n",
    "cdf = norm.cdf((z_star - (rho_MLE2*10 + (1-rho_MLE2)*mu_MLE2))/sig_MLE2)\n",
    "prob = 1.0 - cdf\n",
    "print('CDF value:', cdf, ', Probability:', prob)"
   ]
  },
  {
   "cell_type": "markdown",
   "metadata": {},
   "source": [
    "## Problem 3\n",
    "### (a)"
   ]
  },
  {
   "cell_type": "code",
   "execution_count": 118,
   "metadata": {},
   "outputs": [
    {
     "data": {
      "text/html": [
       "<div>\n",
       "<style>\n",
       "    .dataframe thead tr:only-child th {\n",
       "        text-align: right;\n",
       "    }\n",
       "\n",
       "    .dataframe thead th {\n",
       "        text-align: left;\n",
       "    }\n",
       "\n",
       "    .dataframe tbody tr th {\n",
       "        vertical-align: top;\n",
       "    }\n",
       "</style>\n",
       "<table border=\"1\" class=\"dataframe\">\n",
       "  <thead>\n",
       "    <tr style=\"text-align: right;\">\n",
       "      <th></th>\n",
       "      <th>perc</th>\n",
       "      <th>mid</th>\n",
       "    </tr>\n",
       "  </thead>\n",
       "  <tbody>\n",
       "    <tr>\n",
       "      <th>0</th>\n",
       "      <td>0.035190</td>\n",
       "      <td>2500</td>\n",
       "    </tr>\n",
       "    <tr>\n",
       "      <th>1</th>\n",
       "      <td>0.041062</td>\n",
       "      <td>7500</td>\n",
       "    </tr>\n",
       "    <tr>\n",
       "      <th>2</th>\n",
       "      <td>0.058859</td>\n",
       "      <td>12500</td>\n",
       "    </tr>\n",
       "    <tr>\n",
       "      <th>3</th>\n",
       "      <td>0.056836</td>\n",
       "      <td>17500</td>\n",
       "    </tr>\n",
       "    <tr>\n",
       "      <th>4</th>\n",
       "      <td>0.058595</td>\n",
       "      <td>22500</td>\n",
       "    </tr>\n",
       "  </tbody>\n",
       "</table>\n",
       "</div>"
      ],
      "text/plain": [
       "       perc    mid\n",
       "0  0.035190   2500\n",
       "1  0.041062   7500\n",
       "2  0.058859  12500\n",
       "3  0.056836  17500\n",
       "4  0.058595  22500"
      ]
     },
     "execution_count": 118,
     "metadata": {},
     "output_type": "execute_result"
    }
   ],
   "source": [
    "income = pd.read_csv('usincmoms.txt', delimiter ='\\t' ,header=None)\n",
    "income.columns = ['perc', 'mid']\n",
    "income.head()"
   ]
  },
  {
   "cell_type": "code",
   "execution_count": 123,
   "metadata": {
    "collapsed": true
   },
   "outputs": [],
   "source": [
    "bar_height = income.perc.copy()\n",
    "bar_height[41] = income.perc[41].copy() / 20\n",
    "bar_height[40] = income.perc[40].copy() / 10\n",
    "widths = np.ones(42) * 5\n",
    "widths[41] = 100\n",
    "widths[40] = 50"
   ]
  },
  {
   "cell_type": "code",
   "execution_count": 125,
   "metadata": {},
   "outputs": [
    {
     "data": {
      "image/png": "[encoded data removed]",
      "text/plain": [
       "<matplotlib.figure.Figure at 0x1a166ed668>"
      ]
     },
     "metadata": {},
     "output_type": "display_data"
    }
   ],
   "source": [
    "plt.figure(figsize=(10, 7))\n",
    "plt.bar(income.mid / 1000, bar_height, width=widths, align='center')\n",
    "plt.xlabel('Thousands of Dollars')\n",
    "plt.ylabel('Percent of Population')\n",
    "plt.title('Incomes in the US')\n",
    "plt.show()"
   ]
  },
  {
   "cell_type": "markdown",
   "metadata": {},
   "source": [
    "### (b)"
   ]
  },
  {
   "cell_type": "code",
   "execution_count": 164,
   "metadata": {},
   "outputs": [],
   "source": [
    "# Define bin upper bounds\n",
    "bins = np.zeros(42, dtype=np.float64)\n",
    "bins[0] = 5000\n",
    "# Middle range:\n",
    "for i in range(1, 40):\n",
    "    bins[i] = (income.mid[i] + income.mid[i+1])/2\n",
    "\n",
    "bins[39] = 200000\n",
    "bins[40] = 250000\n",
    "bins[41] = np.inf"
   ]
  },
  {
   "cell_type": "code",
   "execution_count": 165,
   "metadata": {
    "collapsed": true
   },
   "outputs": [],
   "source": [
    "def model_moments(mu, sigma):\n",
    "    pdf_vals = np.zeros(42, dtype=np.float64)\n",
    "    dist_1 = sts.norm.cdf(np.log(bins), mu, sigma)\n",
    "    bins_2 = np.roll(bins, 1)\n",
    "    bins_2[0] = 1e-10\n",
    "    dist_2 = sts.norm.cdf(np.log(bins_2), mu, sigma)\n",
    "    pdf_vals = dist_1 - dist_2\n",
    "    \n",
    "    return pdf_vals "
   ]
  },
  {
   "cell_type": "code",
   "execution_count": 166,
   "metadata": {
    "collapsed": true
   },
   "outputs": [],
   "source": [
    "def err_vec(data_dist, mu, sigma, simple):\n",
    "    moms_data = data_dist\n",
    "    moms_model = model_moments(mu, sigma)\n",
    "    if simple:\n",
    "        err_vec = moms_model - moms_data\n",
    "    else:\n",
    "        err_vec = (moms_model - moms_data) / moms_data\n",
    "    \n",
    "    return err_vec"
   ]
  },
  {
   "cell_type": "code",
   "execution_count": 167,
   "metadata": {
    "collapsed": true
   },
   "outputs": [],
   "source": [
    "def criterion(params, *args):\n",
    "    mu, sigma = params\n",
    "    data_dist, W = args\n",
    "    err = err_vec(data_dist, mu, sigma, simple=False)\n",
    "    crit_val = np.dot(np.dot(err.T, W), err)\n",
    "    \n",
    "    return crit_val"
   ]
  },
  {
   "cell_type": "code",
   "execution_count": 168,
   "metadata": {},
   "outputs": [
    {
     "name": "stdout",
     "output_type": "stream",
     "text": [
      "mu_GMM1= 10.7668436463  sig_GMM1= 0.907841391374\n",
      "      fun: 0.045945282528530099\n",
      " hess_inv: <2x2 LbfgsInvHessProduct with dtype=float64>\n",
      "      jac: array([ -6.83481050e-07,   3.80251386e-07])\n",
      "  message: b'CONVERGENCE: NORM_OF_PROJECTED_GRADIENT_<=_PGTOL'\n",
      "     nfev: 114\n",
      "      nit: 11\n",
      "   status: 0\n",
      "  success: True\n",
      "        x: array([ 10.76684365,   0.90784139])\n"
     ]
    }
   ],
   "source": [
    "mu_init = 4\n",
    "sig_init = 1\n",
    "params_init = np.array([mu_init, sig_init])\n",
    "W_hat = np.diag(income.perc)\n",
    "gmm_args = (income.perc, W_hat)\n",
    "results = opt.minimize(criterion, params_init, args=(gmm_args),\n",
    "                       method='L-BFGS-B', bounds=((None, None), (1e-10, None)))\n",
    "mu_GMM1, sig_GMM1 = results.x\n",
    "print('mu_GMM1=', mu_GMM1, ' sig_GMM1=', sig_GMM1)\n",
    "print(results)"
   ]
  },
  {
   "cell_type": "code",
   "execution_count": 169,
   "metadata": {
    "collapsed": true
   },
   "outputs": [],
   "source": [
    "def log_normal(xvals, mu, sigma):\n",
    "    pdf_vals= (1/(xvals * sigma * np.sqrt(2 * np.pi)) *\\\n",
    "               np.exp(-(np.log(xvals) - mu)**2 /(2 * sigma**2)))\n",
    "    return pdf_vals"
   ]
  },
  {
   "cell_type": "code",
   "execution_count": 170,
   "metadata": {},
   "outputs": [
    {
     "data": {
      "image/png": "[encoded data removed]",
      "text/plain": [
       "<matplotlib.figure.Figure at 0x1a16a16358>"
      ]
     },
     "metadata": {},
     "output_type": "display_data"
    }
   ],
   "source": [
    "plt.figure(figsize=(10,10))\n",
    "plt.bar(income.mid / 1000, bar_height, color='blue', edgecolor='k', align='center', width=widths)\n",
    "plt.xlabel('Thousands of Dollars')\n",
    "plt.ylabel('Percent of Population')\n",
    "plt.title('Incomes in the US')\n",
    "\n",
    "x = np.linspace(1e-5, 350000, 1000)\n",
    "y = 5e3 * log_normal(x, mu_GMM1, sig_GMM1)\n",
    "plt.plot(x / 1000, y, linewidth=2)\n",
    "plt.show()"
   ]
  },
  {
   "cell_type": "markdown",
   "metadata": {},
   "source": [
    "### (c)"
   ]
  },
  {
   "cell_type": "code",
   "execution_count": 181,
   "metadata": {
    "collapsed": true
   },
   "outputs": [],
   "source": [
    "def model_momentsGA(xvals, alpha, beta):\n",
    "    pdf_vals = 1/((beta ** alpha) * math.gamma(alpha)) * (xvals ** (alpha - 1)) * np.exp(-xvals/beta)\n",
    "    \n",
    "    return 5000 * pdf_vals\n",
    "\n",
    "def err_vecGA(alpha, beta, perc, simple = False):\n",
    "    modelpcts = model_momentsGA(income.mid, alpha, beta)\n",
    "    if simple:\n",
    "        err_vec1 = modelpcts - perc\n",
    "    else:\n",
    "        err_vec1 = (modelpcts - perc)/perc\n",
    "    return err_vec1\n",
    "\n",
    "def critGA(params, *args):\n",
    "    alpha, beta = params\n",
    "    pcts, W = args\n",
    "    err = err_vecGA(alpha, beta, pcts)\n",
    "    crit_val = np.dot(np.dot(err.T, W),err)\n",
    "    return crit_val"
   ]
  },
  {
   "cell_type": "code",
   "execution_count": 182,
   "metadata": {},
   "outputs": [
    {
     "data": {
      "text/plain": [
       "      fun: 0.044002400231443854\n",
       " hess_inv: <2x2 LbfgsInvHessProduct with dtype=float64>\n",
       "      jac: array([ -8.46961390e-06,  -2.08166817e-09])\n",
       "  message: b'CONVERGENCE: NORM_OF_PROJECTED_GRADIENT_<=_PGTOL'\n",
       "     nfev: 108\n",
       "      nit: 27\n",
       "   status: 0\n",
       "  success: True\n",
       "        x: array([  1.42469112e+00,   4.50427298e+04])"
      ]
     },
     "execution_count": 182,
     "metadata": {},
     "output_type": "execute_result"
    }
   ],
   "source": [
    "alpha_init = 3.0\n",
    "beta_init = 20000\n",
    "params_init_c = np.array([alpha_init, beta_init])\n",
    "gmm_args_c = (income.perc, W_hat)\n",
    "\n",
    "results_c = opt.minimize(critGA, params_init_c, args=(gmm_args_c),\n",
    "                       method='L-BFGS-B', bounds=((1e-8, None), (1e-8, None)))\n",
    "alpha_gmm_c, beta_gmm_c = results_c.x\n",
    "\n",
    "results_c"
   ]
  },
  {
   "cell_type": "code",
   "execution_count": 187,
   "metadata": {
    "collapsed": true
   },
   "outputs": [],
   "source": [
    "def gamma_pdf(xvals, alpha, beta):\n",
    "    pdf_vals = 1/((beta ** alpha) * math.gamma(alpha)) * (xvals ** (alpha - 1)) * np.exp(-xvals/beta)\n",
    "    \n",
    "    return 5000 * pdf_vals"
   ]
  },
  {
   "cell_type": "code",
   "execution_count": 189,
   "metadata": {},
   "outputs": [
    {
     "data": {
      "image/png": "[encoded data removed]",
      "text/plain": [
       "<matplotlib.figure.Figure at 0x1a11240ef0>"
      ]
     },
     "metadata": {},
     "output_type": "display_data"
    }
   ],
   "source": [
    "plt.figure(figsize=(10,10))\n",
    "plt.bar(income.mid / 1000, bar_height, color='blue', edgecolor='k', align='center', width=widths)\n",
    "plt.xlabel('Thousands of Dollars')\n",
    "plt.ylabel('Percent of Population')\n",
    "plt.title('Incomes in the US')\n",
    "\n",
    "x = np.linspace(1e-5, 350000, 1000)\n",
    "y2 = gamma_pdf(x, alpha_gmm_c, beta_gmm_c)\n",
    "plt.plot(x / 1000, y2, linewidth=2, label=\"GA\")\n",
    "plt.legend()\n",
    "plt.show()"
   ]
  },
  {
   "cell_type": "markdown",
   "metadata": {},
   "source": [
    "### (d)"
   ]
  },
  {
   "cell_type": "code",
   "execution_count": 190,
   "metadata": {},
   "outputs": [
    {
     "data": {
      "image/png": "[encoded data removed]",
      "text/plain": [
       "<matplotlib.figure.Figure at 0x1a168df668>"
      ]
     },
     "metadata": {},
     "output_type": "display_data"
    }
   ],
   "source": [
    "plt.figure(figsize=(10,10))\n",
    "plt.bar(income.mid / 1000, bar_height, color='blue', edgecolor='k', align='center', width=widths)\n",
    "plt.xlabel('Thousands of Dollars')\n",
    "plt.ylabel('Percent of Population')\n",
    "plt.title('Incomes in the US')\n",
    "\n",
    "x = np.linspace(1e-5, 350000, 1000)\n",
    "y = 5e3 * log_normal(x, mu_GMM1, sig_GMM1)\n",
    "plt.plot(x / 1000, y, linewidth=2, label=\"Lognormal\")\n",
    "y2 = gamma_pdf(x, alpha_gmm_c, beta_gmm_c)\n",
    "plt.plot(x / 1000, y2, linewidth=2, label=\"GA\")\n",
    "plt.legend()\n",
    "plt.show()"
   ]
  },
  {
   "cell_type": "markdown",
   "metadata": {},
   "source": [
    "The gamma distribution appears to fit the data better, as it more closely approximates the area where there are many observations (the lower end of the income distribution)."
   ]
  },
  {
   "cell_type": "markdown",
   "metadata": {},
   "source": [
    "### (e)"
   ]
  },
  {
   "cell_type": "code",
   "execution_count": 206,
   "metadata": {},
   "outputs": [
    {
     "data": {
      "text/plain": [
       "      fun: 5109.7765017943102\n",
       " hess_inv: <2x2 LbfgsInvHessProduct with dtype=float64>\n",
       "      jac: array([  3.89718480e-01,   1.81898940e-04])\n",
       "  message: b'CONVERGENCE: REL_REDUCTION_OF_F_<=_FACTR*EPSMCH'\n",
       "     nfev: 21\n",
       "      nit: 3\n",
       "   status: 0\n",
       "  success: True\n",
       "        x: array([  9.99999994e-09,   1.99999966e+04])"
      ]
     },
     "execution_count": 206,
     "metadata": {},
     "output_type": "execute_result"
    }
   ],
   "source": [
    "alpha_init = 3.0\n",
    "beta_init = 20000\n",
    "\n",
    "params_init = np.array([alpha_init, beta_init])\n",
    "gmm_args = (income.perc, np.eye(42))\n",
    "results_Iden = opt.minimize(criterion, params_init, args=(gmm_args),\n",
    "                       method='L-BFGS-B', bounds=((1e-8, None), (1e-8, None)))\n",
    "\n",
    "alpha_GMM_Iden, beta_GMM_Iden = results_Iden.x\n",
    "\n",
    "W_hat2 = (1/42) * (err_vec(income.perc, alpha_GMM_Iden, beta_GMM_Iden, False).values @ \\\n",
    "                   err_vec(income.perc, alpha_GMM_Iden,  beta_GMM_Iden, False).values)\n",
    "\n",
    "gmm_args = (income.perc, W_hat2)\n",
    "\n",
    "results = opt.minimize(criterion, params_init, args=(gmm_args),\n",
    "                       method='L-BFGS-B', bounds=((1e-8, None), (1e-8, None)))\n",
    "\n",
    "alpha_GMM_2, beta_GMM_2 = results.x\n",
    "results"
   ]
  },
  {
   "cell_type": "markdown",
   "metadata": {},
   "source": [
    "## Problem 4\n",
    "### (a)"
   ]
  },
  {
   "cell_type": "code",
   "execution_count": 209,
   "metadata": {
    "collapsed": true
   },
   "outputs": [],
   "source": [
    "# Load data and pull out columns\n",
    "data = np.loadtxt('MacroSeries.txt', delimiter=\",\")\n",
    "c = data[:, 0]\n",
    "k = data[:, 1]\n",
    "w = data[:, 2]\n",
    "r = data[:, 3]"
   ]
  },
  {
   "cell_type": "code",
   "execution_count": 216,
   "metadata": {
    "collapsed": true
   },
   "outputs": [],
   "source": [
    "# Define functions\n",
    "def get_z(r,k,alpha):\n",
    "    z = np.log(r) - np.log(alpha) - (alpha - 1) * np.log(k)\n",
    "    return z\n",
    "\n",
    "def data_moments(c, k, w, r, alpha, beta, rho, mu):\n",
    "    z = get_z(r, k, alpha)\n",
    "    eq7 = z[1:] - rho * z[:-1] - (1 - rho) * mu\n",
    "    eq8 = (z[1:] - rho * z[:-1] - (1 - rho) * mu) * z[:-1]\n",
    "    eq9 = beta * alpha * np.exp(z[1:]) * k[1:] ** (alpha - 1) * c[:-1]/c[1:] - 1\n",
    "    eq10 = (beta * alpha * np.exp(z[1:]) * k[1:] ** (alpha - 1) * c[:-1]/c[1:] - 1) * w[:-1]\n",
    "    return eq7.mean(), eq8.mean(), eq9.mean(), eq10.mean()\n",
    "\n",
    "def err_vec(c, k, w, r, alpha, beta, rho, mu, simple = True):\n",
    "    mo_moments = np.zeros(4)\n",
    "    da_moments = np.array(data_moments(c, k, w, r, alpha, beta, rho, mu)).reshape(1, 4)\n",
    "    if simple:\n",
    "        err_vec = (mo_moments - da_moments)[0]\n",
    "    else:\n",
    "        err_vec = (mo_moments - da_moments) / da_moments\n",
    "    return err_vec\n",
    "\n",
    "def crit(params, *args):\n",
    "    alpha, beta, rho, mu = params\n",
    "    c, k, w, r, weight  = args\n",
    "    err = err_vec(c, k, w, r, alpha, beta, rho, mu)\n",
    "    crit_val = np.dot(np.dot(err.T, weight), err) \n",
    "    return crit_val"
   ]
  },
  {
   "cell_type": "code",
   "execution_count": 217,
   "metadata": {},
   "outputs": [
    {
     "name": "stdout",
     "output_type": "stream",
     "text": [
      "      fun: 0.0021606411150718102\n",
      " hess_inv: <4x4 LbfgsInvHessProduct with dtype=float64>\n",
      "      jac: array([  1.88857706e-02,   4.21106022e+03,   9.68262796e-05,\n",
      "         7.44285970e-04])\n",
      "  message: b'CONVERGENCE: REL_REDUCTION_OF_F_<=_FACTR*EPSMCH'\n",
      "     nfev: 350\n",
      "      nit: 25\n",
      "   status: 0\n",
      "  success: True\n",
      "        x: array([ 0.47201018,  0.99      ,  0.81071625,  9.00404255])\n"
     ]
    }
   ],
   "source": [
    "W = np.eye(4)\n",
    "alpha_init = 0.4\n",
    "beta_init = 0.8\n",
    "rho_init = 0.7\n",
    "mu_init = 9\n",
    "\n",
    "params_init = (alpha_init, beta_init, rho_init, mu_init)\n",
    "args = (c, k, w, r, weight)\n",
    "results = opt.minimize(crit, params_init, args=(args), \n",
    "                       bounds = ((1e-10, 0.9999), (1e-10, 0.9999), (-0.9999, 0.9999), (1e-10, None)), \n",
    "                       method = 'L-BFGS-B')\n",
    "print(results)"
   ]
  },
  {
   "cell_type": "code",
   "execution_count": null,
   "metadata": {
    "collapsed": true
   },
   "outputs": [],
   "source": []
  }
 ],
 "metadata": {
  "kernelspec": {
   "display_name": "Python 3",
   "language": "python",
   "name": "python3"
  },
  "language_info": {
   "codemirror_mode": {
    "name": "ipython",
    "version": 3
   },
   "file_extension": ".py",
   "mimetype": "text/x-python",
   "name": "python",
   "nbconvert_exporter": "python",
   "pygments_lexer": "ipython3",
   "version": "3.6.3"
  }
 },
 "nbformat": 4,
 "nbformat_minor": 2
}
