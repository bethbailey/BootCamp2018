{
 "cells": [
  {
   "cell_type": "markdown",
   "metadata": {},
   "source": [
    "## Problem Set 3\n",
    "By: Bethany Bailey"
   ]
  },
  {
   "cell_type": "markdown",
   "metadata": {},
   "source": [
    "### 2.1"
   ]
  },
  {
   "cell_type": "code",
   "execution_count": 1,
   "metadata": {
    "collapsed": true
   },
   "outputs": [],
   "source": [
    "import numpy as np"
   ]
  },
  {
   "cell_type": "code",
   "execution_count": 2,
   "metadata": {
    "collapsed": true
   },
   "outputs": [],
   "source": [
    "def feasible(f_params, bvec_guess):\n",
    "    nvec, A, alpha, delta = f_params\n",
    "    b2, b3 = bvec_guess\n",
    "    \n",
    "    K = sum(bvec_guess)\n",
    "    L = sum(nvec)\n",
    "    r = alpha * A * ((L / K) ** (1 - alpha)) - delta\n",
    "    w = (1 - alpha) * A * ((K / L) ** alpha)\n",
    "    \n",
    "    K_cnstr, c_cnstr, b_cnstr = np.full(1, False), np.full(3, False), np.full(2, False)\n",
    "    \n",
    "    c_cnstr[0] = nvec[0] * w - b2 < 0 \n",
    "    c_cnstr[1] = nvec[1] * w + (1 + r) * b2 - b3 < 0\n",
    "    c_cnstr[2] = nvec[2] * w + (1 + r) * b3 < 0\n",
    "    \n",
    "    K_cnstr[0] = sum(bvec_guess) < 0\n",
    "    \n",
    "    if c_cnstr[0] == True:\n",
    "        b_cnstr[0] = True\n",
    "    if c_cnstr[1] == True:\n",
    "        b_cnstr[0], b_cnstr[1] = True, True\n",
    "    if c_cnstr[2] == True:\n",
    "        b_cnstr[1] = True\n",
    "        \n",
    "    return b_cnstr, c_cnstr, K_cnstr"
   ]
  },
  {
   "cell_type": "code",
   "execution_count": 3,
   "metadata": {
    "collapsed": true
   },
   "outputs": [],
   "source": [
    "# Set parameters\n",
    "beta = .442\n",
    "delta = .6415\n",
    "sigma = 3.0\n",
    "A = 1.0\n",
    "alpha = .35\n",
    "\n",
    "nvec = np.array([1.0, 1.0, .2])"
   ]
  },
  {
   "cell_type": "code",
   "execution_count": 4,
   "metadata": {
    "collapsed": true
   },
   "outputs": [],
   "source": [
    "# Make inputs:\n",
    "f_params = (nvec, A, alpha, delta)"
   ]
  },
  {
   "cell_type": "markdown",
   "metadata": {},
   "source": [
    "### (a)"
   ]
  },
  {
   "cell_type": "code",
   "execution_count": 5,
   "metadata": {},
   "outputs": [
    {
     "data": {
      "text/plain": [
       "(array([ True, False], dtype=bool),\n",
       " array([ True, False, False], dtype=bool),\n",
       " array([False], dtype=bool))"
      ]
     },
     "execution_count": 5,
     "metadata": {},
     "output_type": "execute_result"
    }
   ],
   "source": [
    "bvec_guess1 = np.array([1.0, 1.2])\n",
    "feasible(f_params, bvec_guess1)"
   ]
  },
  {
   "cell_type": "markdown",
   "metadata": {},
   "source": [
    "Nonegativity is violated (first period consumption is negative)."
   ]
  },
  {
   "cell_type": "markdown",
   "metadata": {},
   "source": [
    "### (b)"
   ]
  },
  {
   "cell_type": "code",
   "execution_count": 6,
   "metadata": {},
   "outputs": [
    {
     "data": {
      "text/plain": [
       "(array([False, False], dtype=bool),\n",
       " array([False, False, False], dtype=bool),\n",
       " array([False], dtype=bool))"
      ]
     },
     "execution_count": 6,
     "metadata": {},
     "output_type": "execute_result"
    }
   ],
   "source": [
    "bvec_guess2 = np.array([0.06, -0.001])\n",
    "feasible(f_params, bvec_guess2)"
   ]
  },
  {
   "cell_type": "markdown",
   "metadata": {},
   "source": [
    "No constraints are violated."
   ]
  },
  {
   "cell_type": "markdown",
   "metadata": {},
   "source": [
    "### (c)"
   ]
  },
  {
   "cell_type": "code",
   "execution_count": 7,
   "metadata": {},
   "outputs": [
    {
     "data": {
      "text/plain": [
       "(array([False, False], dtype=bool),\n",
       " array([False, False, False], dtype=bool),\n",
       " array([False], dtype=bool))"
      ]
     },
     "execution_count": 7,
     "metadata": {},
     "output_type": "execute_result"
    }
   ],
   "source": [
    "bvec_guess2 = np.array([0.1, 0.1])\n",
    "feasible(f_params, bvec_guess2)"
   ]
  },
  {
   "cell_type": "markdown",
   "metadata": {},
   "source": [
    "No constraints are violated."
   ]
  },
  {
   "cell_type": "markdown",
   "metadata": {},
   "source": [
    "### 2.2"
   ]
  },
  {
   "cell_type": "code",
   "execution_count": 8,
   "metadata": {
    "collapsed": true
   },
   "outputs": [],
   "source": [
    "import time\n",
    "import scipy.optimize as opt\n",
    "import matplotlib.pyplot as plt\n",
    "from matplotlib.ticker import MultipleLocator"
   ]
  },
  {
   "cell_type": "code",
   "execution_count": 9,
   "metadata": {
    "collapsed": true
   },
   "outputs": [],
   "source": [
    "def get_w(K, w_args):\n",
    "    A, alpha, L = w_args\n",
    "    \n",
    "    w = (1 - alpha) * A * (((K) / (L)) ** alpha)\n",
    "    \n",
    "    return w\n",
    "\n",
    "def get_r(K, r_args):\n",
    "    A, alpha, delta, L = r_args\n",
    "    \n",
    "    r = alpha * A * ((L / (K)) ** (1 - alpha)) - delta\n",
    "    \n",
    "    return r"
   ]
  },
  {
   "cell_type": "code",
   "execution_count": 10,
   "metadata": {},
   "outputs": [],
   "source": [
    "def get_SS(params, bvec_guess, SS_graphs):\n",
    "    start_time = time.clock()\n",
    "    \n",
    "    beta, sigma, nvec, A, alpha, delta, SS_tol = params\n",
    "    b2, b3 = bvec_guess\n",
    "    \n",
    "    L = sum(nvec)\n",
    "    err_args = beta, sigma, A, alpha, delta, L\n",
    "    w_args = A, alpha, L\n",
    "    r_args = A, alpha, delta, L\n",
    "    \n",
    "    results_ss = opt.root(Eul_errs, bvec_guess, tol=SS_tol, args=(err_args))\n",
    "    \n",
    "    b_ss = results_ss.x\n",
    "    w_ss = get_w(sum(b_ss), w_args)\n",
    "    r_ss = get_r(sum(b_ss), r_args)\n",
    "    c_ss = np.array([w_ss - b_ss[0], \n",
    "                     w_ss + (1 + r_ss)*b_ss[0] - b_ss[1],\n",
    "                     (1 + r_ss)*b_ss[1] + .2 * w_ss])\n",
    "    K_ss = np.sum(b_ss)\n",
    "    Y_ss = A * (K_ss ** alpha) * (L ** (1 - alpha))\n",
    "    C_ss = Y_ss - K_ss + (1 - delta) * K_ss\n",
    "    \n",
    "    EulErr_ss = np.array([beta * (1 + r_ss) * (c_ss[1] ** -sigma) - (c_ss[0] ** -sigma),\n",
    "                          beta * (1 + r_ss) * (c_ss[2] ** -sigma) - (c_ss[1] ** -sigma)])\n",
    "    RCerr_ss = Y_ss - C_ss - delta * K_ss\n",
    "    \n",
    "    ss_time = time.clock()\n",
    "    \n",
    "    # Create dictionary\n",
    "    ss_output = {\n",
    "        'b_ss': b_ss, 'c_ss': c_ss, 'w_ss': w_ss, 'r_ss': r_ss, \n",
    "        'K_ss': K_ss, 'Y_ss': Y_ss, 'C_ss': C_ss, \n",
    "        'EulErr_ss': EulErr_ss, 'RCerr_ss': RCerr_ss, \n",
    "        'ss_time': ss_time}\n",
    "     \n",
    "    # Graph \n",
    "    if SS_graphs == True:\n",
    "        s = np.array([1,2,3])\n",
    "        plt.plot(s, ss_output['c_ss'])\n",
    "        plt.xlabel('Age')\n",
    "        plt.ylabel('Consumption')\n",
    "        plt.title('Steady State Consumption')\n",
    "        plt.show()\n",
    "\n",
    "        plt.plot(s[1:], ss_output['b_ss'])\n",
    "        plt.xlabel('Age')\n",
    "        plt.ylabel('Saving')\n",
    "        plt.title('Steady State Saving')\n",
    "        plt.show()\n",
    "        \n",
    "    return ss_output"
   ]
  },
  {
   "cell_type": "code",
   "execution_count": 11,
   "metadata": {
    "collapsed": true
   },
   "outputs": [],
   "source": [
    "def Eul_errs(bvec, *err_args):\n",
    "\n",
    "    beta, sigma, A, alpha, delta, L = err_args\n",
    "    b2, b3 = bvec\n",
    "    \n",
    "    w_args = A, alpha, L\n",
    "    r_args = A, alpha, delta, L\n",
    "    w = get_w(b2 + b3, w_args) \n",
    "    r = get_r(b2 + b3, r_args) \n",
    "    \n",
    "    # Consumption calculation\n",
    "    c1 = w - b2\n",
    "    c2 = w + (1 + r) * b2 - b3\n",
    "    c3 = (1 + r) * b3 + 0.2 * w\n",
    "    \n",
    "    # Marginal utility calculation\n",
    "    MU1 = c1 ** (-sigma)\n",
    "    MU2 = c2 ** (-sigma)\n",
    "    MU3 = c3 ** (-sigma)\n",
    "    \n",
    "    # Error calc\n",
    "    err1 = MU1 - beta * (1 + r) * MU2\n",
    "    err2 = MU2 - beta * (1 + r) * MU3\n",
    "    \n",
    "    return err1, err2"
   ]
  },
  {
   "cell_type": "markdown",
   "metadata": {},
   "source": [
    "### (a) & (b)"
   ]
  },
  {
   "cell_type": "code",
   "execution_count": 12,
   "metadata": {},
   "outputs": [],
   "source": [
    "SS_tol = 0.001\n",
    "params = ((beta, sigma, nvec, A, alpha, delta, SS_tol))\n",
    "bvec_guess = np.array([.1, .1])"
   ]
  },
  {
   "cell_type": "code",
   "execution_count": 13,
   "metadata": {},
   "outputs": [
    {
     "data": {
      "image/png": "[encoded data removed]",
      "text/plain": [
       "<matplotlib.figure.Figure at 0x10c1e2b00>"
      ]
     },
     "metadata": {},
     "output_type": "display_data"
    },
    {
     "data": {
      "image/png": "[encoded data removed]",
      "text/plain": [
       "<matplotlib.figure.Figure at 0x110184b70>"
      ]
     },
     "metadata": {},
     "output_type": "display_data"
    },
    {
     "name": "stdout",
     "output_type": "stream",
     "text": [
      "{'b_ss': array([ 0.01931262,  0.05841243]), 'c_ss': array([ 0.18241333,  0.20961424,  0.24087656]), 'w_ss': 0.20172594930955895, 'r_ss': 2.4330257711486469, 'K_ss': 0.077725047963728117, 'Y_ss': 0.68276475150927651, 'C_ss': 0.63290413324054495, 'EulErr_ss': array([ 0.00253831, -0.0054862 ]), 'RCerr_ss': -2.0816681711721685e-17, 'ss_time': 2.377096}\n"
     ]
    }
   ],
   "source": [
    "ss_output = get_SS(params, bvec_guess, SS_graphs=True)\n",
    "print(ss_output)"
   ]
  },
  {
   "cell_type": "markdown",
   "metadata": {},
   "source": [
    "It took 2.3ms to compute the steady state."
   ]
  },
  {
   "cell_type": "markdown",
   "metadata": {},
   "source": [
    "### (c)"
   ]
  },
  {
   "cell_type": "code",
   "execution_count": 14,
   "metadata": {},
   "outputs": [
    {
     "data": {
      "image/png": "[encoded data removed]",
      "text/plain": [
       "<matplotlib.figure.Figure at 0x1101be588>"
      ]
     },
     "metadata": {},
     "output_type": "display_data"
    },
    {
     "data": {
      "image/png": "[encoded data removed]",
      "text/plain": [
       "<matplotlib.figure.Figure at 0x110262160>"
      ]
     },
     "metadata": {},
     "output_type": "display_data"
    },
    {
     "data": {
      "text/plain": [
       "{'C_ss': 0.69128545415145637,\n",
       " 'EulErr_ss': array([-0.00087544, -0.00013795]),\n",
       " 'K_ss': 0.10504298717560716,\n",
       " 'RCerr_ss': -5.5511151231257827e-17,\n",
       " 'Y_ss': 0.7586705304246083,\n",
       " 'b_ss': array([ 0.02817716,  0.07686583]),\n",
       " 'c_ss': array([ 0.1959755 ,  0.22861645,  0.26669351]),\n",
       " 'r_ss': 1.8863668551637944,\n",
       " 'ss_time': 2.805062,\n",
       " 'w_ss': 0.2241526567163615}"
      ]
     },
     "execution_count": 14,
     "metadata": {},
     "output_type": "execute_result"
    }
   ],
   "source": [
    "beta1 = .55\n",
    "params1 = beta1, sigma, nvec, A, alpha, delta, SS_tol\n",
    "results_ss = get_SS(params1, bvec_guess, SS_graphs=True)\n",
    "results_ss"
   ]
  },
  {
   "cell_type": "markdown",
   "metadata": {},
   "source": [
    "As households become more patient (e.g. beta = 0.55), what happens to each of these steady-state values? All the metrics (e.g. savings, consumption, and wage) increase other than the interest rate, which decreases.\n",
    "\n",
    "The intuition behind this is that as beta increases and households become more patient, they discount the future less, and thus they save more. This increase in savings will lead to greater production, causing individuals to consume more and have higher wages. This will also cause a decrease in interest rate."
   ]
  },
  {
   "cell_type": "markdown",
   "metadata": {},
   "source": [
    "### 2.3"
   ]
  },
  {
   "cell_type": "code",
   "execution_count": 15,
   "metadata": {
    "collapsed": true
   },
   "outputs": [],
   "source": [
    "import scipy.linalg as la"
   ]
  },
  {
   "cell_type": "code",
   "execution_count": 16,
   "metadata": {},
   "outputs": [],
   "source": [
    "# Set parameters\n",
    "beta_annual = 0.96\n",
    "beta = beta_annual ** 20 # economic lifetime is 60 years, 3 periods\n",
    "sigma = 2.2\n",
    "n_vec = np.array([1.0, 1.0, 0.2])\n",
    "L = sum(n_vec)\n",
    "alpha = 0.35\n",
    "A = 1.0\n",
    "delta_annual = 0.05\n",
    "delta = 1 - (1 - delta_annual) ** 20\n",
    "\n",
    "T = 50\n",
    "path_toler = 1e-9\n",
    "xi = 0.2\n",
    "maxIter = 1000\n",
    "\n",
    "params = beta, sigma, nvec, A, alpha, delta, path_toler"
   ]
  },
  {
   "cell_type": "code",
   "execution_count": 17,
   "metadata": {},
   "outputs": [],
   "source": [
    "# Solve for the steady-state\n",
    "results_ss = get_SS(params, bvec_guess, False)\n",
    "b2bar, b3bar = results_ss['b_ss']\n",
    "\n",
    "# Set initial condition\n",
    "b21 = 0.8 * b2bar\n",
    "b31 = 1.1 * b3bar\n",
    "\n",
    "# Initial guess for K\n",
    "K1 = b21 + b31\n",
    "Kbar = b2bar + b3bar\n",
    "Kpath = np.linspace(K1, Kbar, T)\n",
    "# Add to make the same size\n",
    "Kpath = np.append(Kpath, Kbar)\n",
    "w_args = A, alpha, L\n",
    "r_args = A, alpha, delta, L\n",
    "rpath = get_r(Kpath, r_args)\n",
    "wpath = get_w(Kpath, w_args)\n",
    "\n",
    "# Add to make the same size.\n",
    "rbar = get_r(Kbar, r_args)\n",
    "wbar = get_w(Kbar, w_args)\n",
    "rpath = np.append(rpath, rbar)\n",
    "wpath = np.append(wpath, wbar)"
   ]
  },
  {
   "cell_type": "code",
   "execution_count": 18,
   "metadata": {
    "collapsed": true
   },
   "outputs": [],
   "source": [
    "def get_b32(b32, *err_args):\n",
    "\n",
    "    beta, sigma, rpath, wpath, nvec, b21 = err1_args\n",
    "    \n",
    "    # Calculate consumption\n",
    "    c1 = wpath[0] * nvec[1] + (1 + rpath[0]) * b21 - b32\n",
    "    c2 = (1 + rpath[1]) * b32 + nvec[2] * wpath[1]\n",
    "    \n",
    "    # Calculate marginal utility\n",
    "    MU1 = c1 ** (-sigma)\n",
    "    MU2 = c2 ** (-sigma)\n",
    "    \n",
    "    # Calculate error \n",
    "    err = MU1 - beta * (1 + rpath[1]) * MU2\n",
    "    \n",
    "    return err\n",
    "\n",
    "def get_b2t_b3t1(bvec, *err2_args):\n",
    "    \n",
    "    beta, sigma, rpath, wpath, nvec = err2_args \n",
    "    \n",
    "    # Calculate consumption \n",
    "    c1 = nvec[0] * wpath[0] - bvec[0]\n",
    "    c2 = nvec[1] * wpath[1] + (1 + rpath[0]) * bvec[0] - bvec[1]\n",
    "    c3 = (1 + rpath[1]) * bvec[1] + nvec[2] * wpath[2]\n",
    "    \n",
    "    # Calculate marginal utility\n",
    "    MU1 = c1 ** (-sigma)\n",
    "    MU2 = c2 ** (-sigma)\n",
    "    MU3 = c3 ** (-sigma)\n",
    "    \n",
    "    # Calculate error\n",
    "    err1 = MU1 - beta * (1 + rpath[0]) * MU2\n",
    "    err2 = MU2 - beta * (1 + rpath[1]) * MU3\n",
    "    \n",
    "    return err1, err2"
   ]
  },
  {
   "cell_type": "code",
   "execution_count": 19,
   "metadata": {},
   "outputs": [],
   "source": [
    "eps = path_toler + 1\n",
    "iteration = 1\n",
    "bvec_guess = np.array([.1, .1])\n",
    "\n",
    "while (iteration < maxIter) and (eps > path_toler):\n",
    "    bmat = np.zeros((T+1,2))\n",
    "    bmat[0,0] = b21\n",
    "    bmat[0,1] = b31\n",
    "    \n",
    "    err1_args = beta, sigma, rpath[:2], wpath[:2], nvec, b21\n",
    "    result1 = opt.root(get_b32, bmat[0,1], args=(err1_args))\n",
    "    bmat[1,1] = result1.x\n",
    "    EulErrs = np.zeros((T+1, 2))\n",
    "    EulErrs[1,1] = result1.fun\n",
    "    \n",
    "    for t in range(1,T):\n",
    "        err2_args = beta, sigma, rpath[t:t+2], wpath[t-1:t+2], nvec\n",
    "        result2 = opt.root(get_b2t_b3t1, bvec_guess, args=(err2_args))\n",
    "        bmat[t,0] = result2.x[0]\n",
    "        bmat[t+1,1] = result2.x[1]\n",
    "        EulErrs[t,0] = result2.fun[0]\n",
    "        EulErrs[t+1,1] = result2.fun[1]\n",
    "\n",
    "    max_EulErrs = np.abs(EulErrs).max(axis = 0)\n",
    "    \n",
    "    Kpath_prime = bmat[:-1].sum(axis=1)\n",
    "    Kpath_prime = np.append(Kpath_prime, Kbar)\n",
    "    eps = la.norm(Kpath_prime - Kpath, 2)\n",
    "    Kpath_new = xi * Kpath_prime + (1 - xi) * Kpath\n",
    "    Kpath = np.copy(Kpath_new)\n",
    "    \n",
    "    rpath = get_r(Kpath, r_args)\n",
    "    wpath = get_w(Kpath, w_args)\n",
    "    \n",
    "    iteration = iteration + 1"
   ]
  },
  {
   "cell_type": "markdown",
   "metadata": {},
   "source": [
    "### (a)"
   ]
  },
  {
   "cell_type": "code",
   "execution_count": 20,
   "metadata": {},
   "outputs": [
    {
     "name": "stdout",
     "output_type": "stream",
     "text": [
      "Maximum of the absolute values of all the Euler errors across the entire time path:  [  1.63495883e-11   3.09750448e-10]\n"
     ]
    }
   ],
   "source": [
    "print(\"Maximum of the absolute values of all the Euler errors across the entire time path: \", max_EulErrs)"
   ]
  },
  {
   "cell_type": "code",
   "execution_count": 21,
   "metadata": {},
   "outputs": [
    {
     "name": "stdout",
     "output_type": "stream",
     "text": [
      "Maximum of the absolute value of all the aggregate resource \n",
      "    constraint errors Yt − Ct − Kt+1 + (1 − δ)Kt across the entire time path: 0.0237198032205\n"
     ]
    }
   ],
   "source": [
    "Y_t = A * (Kpath[:-1] ** alpha) * (2.2 **(1 - alpha))\n",
    "C_t = 2.2 * wpath[:-1] + (1 + rpath[:-1]) * bmat[:-1,0] - bmat[1:,0] + (1 + rpath[:-1]) * bmat[:-1,1] - bmat[1:,1]\n",
    "RC_Err = Y_t - C_t - Kpath[1:] + (1 - delta) * Kpath[:-1]\n",
    "max_RC_Err = np.abs(RC_Err).max()\n",
    "print(\"Maximum of the absolute value of all the aggregate resource \\n\\\n",
    "    constraint errors Yt − Ct − Kt+1 + (1 − δ)Kt across the entire time path:\", max_RC_Err)"
   ]
  },
  {
   "cell_type": "markdown",
   "metadata": {},
   "source": [
    "### (b) Plot the equlibrium time paths"
   ]
  },
  {
   "cell_type": "code",
   "execution_count": 22,
   "metadata": {},
   "outputs": [
    {
     "data": {
      "image/png": "[encoded data removed]",
      "text/plain": [
       "<matplotlib.figure.Figure at 0x10c1e2978>"
      ]
     },
     "metadata": {},
     "output_type": "display_data"
    },
    {
     "data": {
      "image/png": "[encoded data removed]",
      "text/plain": [
       "<matplotlib.figure.Figure at 0x1104de9b0>"
      ]
     },
     "metadata": {},
     "output_type": "display_data"
    },
    {
     "data": {
      "image/png": "[encoded data removed]",
      "text/plain": [
       "<matplotlib.figure.Figure at 0x11050bd30>"
      ]
     },
     "metadata": {},
     "output_type": "display_data"
    }
   ],
   "source": [
    "plt.plot(Kpath, label='Aggregate Capital Stock')\n",
    "plt.hlines(Kbar, -1, T, label='SS Capital')\n",
    "plt.xlabel('Time')\n",
    "plt.ylabel('Amount')\n",
    "plt.title('Time Path of Aggregate Capital Stock')\n",
    "plt.legend()\n",
    "plt.show()\n",
    "\n",
    "plt.plot(rpath, label='Interest Rate')\n",
    "plt.hlines(rbar, -1, T, label='SS Interest Rate')\n",
    "plt.xlabel('Time')\n",
    "plt.ylabel('Amount')\n",
    "plt.title('Time Path of Interest Rate')\n",
    "plt.legend()\n",
    "plt.show()\n",
    "\n",
    "plt.plot(wpath, label='Wage')\n",
    "plt.hlines(wbar, -1, T, label='SS Wage')\n",
    "plt.xlabel('Time')\n",
    "plt.ylabel('Amount')\n",
    "plt.title(' Time Path of Wage')\n",
    "plt.legend()\n",
    "plt.show()"
   ]
  },
  {
   "cell_type": "code",
   "execution_count": 24,
   "metadata": {},
   "outputs": [
    {
     "name": "stdout",
     "output_type": "stream",
     "text": [
      "It took  9  periodsfor the economy to get within 0.00001 \n",
      "    of the steady-state aggregate capital stock.\n",
      "The period after which the aggregate capital stock never is again farther than \n",
      "    0.00001 away from the steady-state is 10\n"
     ]
    }
   ],
   "source": [
    "Kpath_dist_ss = np.abs(Kpath - Kbar)\n",
    "err =  .00001\n",
    "first = np.where(Kpath_dist_ss < err)[0]\n",
    "print(\"It took \", first[0], \" periodsfor the economy to get within 0.00001 \\n\\\n",
    "    of the steady-state aggregate capital stock.\")\n",
    "loc_cons = np.ediff1d(first) == 1\n",
    "print(\"The period after which the aggregate capital stock never is again farther than \\n\\\n",
    "    0.00001 away from the steady-state is\", first[-len(loc_cons)])"
   ]
  }
 ],
 "metadata": {
  "kernelspec": {
   "display_name": "Python 3",
   "language": "python",
   "name": "python3"
  },
  "language_info": {
   "codemirror_mode": {
    "name": "ipython",
    "version": 3
   },
   "file_extension": ".py",
   "mimetype": "text/x-python",
   "name": "python",
   "nbconvert_exporter": "python",
   "pygments_lexer": "ipython3",
   "version": "3.6.3"
  }
 },
 "nbformat": 4,
 "nbformat_minor": 2
}
