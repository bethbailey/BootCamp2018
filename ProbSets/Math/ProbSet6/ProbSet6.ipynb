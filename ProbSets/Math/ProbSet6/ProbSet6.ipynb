{
 "cells": [
  {
   "cell_type": "markdown",
   "metadata": {},
   "source": [
    "# Problem Set 6\n",
    "By: Bethany Bailey\n",
    "# 9.6"
   ]
  },
  {
   "cell_type": "code",
   "execution_count": 4,
   "metadata": {
    "collapsed": true
   },
   "outputs": [],
   "source": [
    "import numpy as np\n",
    "from matplotlib import pyplot as plt\n",
    "from scipy import optimize as opt\n",
    "from scipy import linalg as la"
   ]
  },
  {
   "cell_type": "code",
   "execution_count": 2,
   "metadata": {
    "collapsed": true
   },
   "outputs": [],
   "source": [
    "def steepest_descent_quadratic(Q, b, c, x_0, eps=1e-9, maxiters=1e3):\n",
    "    ''' Implements Steepest Descent Method for quadratic functions.'''\n",
    "    dist = 1e5\n",
    "    i = 0\n",
    "    x_k = x_0\n",
    "    \n",
    "    while dist > eps and i < maxiters:\n",
    "        DfT = Q @ x_k - b\n",
    "        alpha_k = (DfT.T @ DfT) / (DfT.T @ Q @ DfT)\n",
    "        x_k1 = x_k - alpha_k * DfT\n",
    "        dist = la.norm(DfT.T)\n",
    "        x_k = x_k1\n",
    "        i += 1\n",
    "        \n",
    "    if i < maxiters:\n",
    "        print(f\"Converged in {i} iterations\")\n",
    "        f = 0.5 * x_k.T @ Q @ x_k - b.T @ x_k + c\n",
    "    else:\n",
    "        print(\"Did not converge\")\n",
    "        f = None\n",
    "        \n",
    "    return x_k, f"
   ]
  },
  {
   "cell_type": "code",
   "execution_count": 3,
   "metadata": {},
   "outputs": [
    {
     "name": "stdout",
     "output_type": "stream",
     "text": [
      "Converged in 17 iterations\n"
     ]
    },
    {
     "data": {
      "text/plain": [
       "(array([-1.25,  0.75]), -2.25)"
      ]
     },
     "execution_count": 3,
     "metadata": {},
     "output_type": "execute_result"
    }
   ],
   "source": [
    "Q = np.array([[3, 1],[1, 3]])\n",
    "b = np.array([-3, 1])\n",
    "c = 0\n",
    "x_0 = np.array([20, 5])\n",
    "steepest_descent_quadratic(Q, b, c, x_0)"
   ]
  },
  {
   "cell_type": "code",
   "execution_count": 5,
   "metadata": {},
   "outputs": [
    {
     "data": {
      "text/plain": [
       "      fun: -2.249999999996836\n",
       " hess_inv: array([[ 0.37528592, -0.1262136 ],\n",
       "       [-0.1262136 ,  0.38014872]])\n",
       "      jac: array([  4.47034836e-07,   4.23192978e-06])\n",
       "  message: 'Optimization terminated successfully.'\n",
       "     nfev: 36\n",
       "      nit: 7\n",
       "     njev: 9\n",
       "   status: 0\n",
       "  success: True\n",
       "        x: array([-1.25000037,  0.75000153])"
      ]
     },
     "execution_count": 5,
     "metadata": {},
     "output_type": "execute_result"
    }
   ],
   "source": [
    "# Confirm algorithm\n",
    "def f(x, args):\n",
    "    Q, b, c = args\n",
    "    return 0.5 * x.T @ Q @ x - b.T @ x + c\n",
    "opt.minimize(f, x_0, args=[Q, b, c])"
   ]
  },
  {
   "cell_type": "markdown",
   "metadata": {},
   "source": [
    "# 9.7"
   ]
  },
  {
   "cell_type": "code",
   "execution_count": 6,
   "metadata": {
    "collapsed": true
   },
   "outputs": [],
   "source": [
    "def compute_Df(f, x, Rerr=1e-9):\n",
    "    '''Compute Df(x)'''\n",
    "    step = np.sqrt(Rerr)  \n",
    "    if np.isscalar(x):\n",
    "        n = 1\n",
    "    else:\n",
    "        n = len(x)\n",
    "    if np.isscalar(f(x)):\n",
    "        m = 1\n",
    "    else:\n",
    "        m = len(f(x))\n",
    "    \n",
    "    Df = np.empty((m, n))\n",
    "    for j in range(n):\n",
    "        e = np.identity(n)[j] \n",
    "        Df[:, j] = (f(x + step * e) - f(x - step * e)) / (2 * step)\n",
    "    return Df"
   ]
  },
  {
   "cell_type": "code",
   "execution_count": 7,
   "metadata": {},
   "outputs": [
    {
     "data": {
      "text/plain": [
       "array([[ 2.,  0.,  1.],\n",
       "       [ 3., -1.,  0.]])"
      ]
     },
     "execution_count": 7,
     "metadata": {},
     "output_type": "execute_result"
    }
   ],
   "source": [
    "f = lambda x: np.array([x[0] ** 2 + x[2], x[0] ** 3 - x[1]]).T\n",
    "x = np.array([1, 2, 3])\n",
    "compute_Df(f, x)"
   ]
  },
  {
   "cell_type": "markdown",
   "metadata": {},
   "source": [
    "# 9.8"
   ]
  },
  {
   "cell_type": "code",
   "execution_count": 17,
   "metadata": {
    "collapsed": true
   },
   "outputs": [],
   "source": [
    "def secant(x_0, x_1, ϕ, ɛ=1e-9, maxiters=100):\n",
    "    '''Secant method for line search.'''\n",
    "    x = np.zeros(maxiters, dtype=float)\n",
    "    fprime = np.zeros(maxiters, dtype=float)\n",
    "    \n",
    "    x[0] = x_0\n",
    "    fprime[0] = compute_Df(ϕ, x[0])[0]\n",
    "    x[1] = x_1\n",
    "    fprime[1] = compute_Df(ϕ, x[1])[0]\n",
    "    \n",
    "    k = 2\n",
    "    dist = 1e3\n",
    "    while dist > ɛ and k < maxiters:\n",
    "        x[k] = x[k-1] - fprime[k-1] * ((x[k-1] - x[k-2]) / (fprime[k-1] - fprime[k-2]))\n",
    "        fprime[k] = compute_Df(ϕ, x[k])[0]\n",
    "        dist = np.abs((x[k] - x[k-1]) / x[k-1])\n",
    "        k +=1\n",
    "        \n",
    "    return x[k-1]\n",
    "    \n",
    "def steepest_descent(f, x_0, ɛ=1e-6, maxiters=1000):    \n",
    "    '''Steepest descent method for arbitrary functions.'''\n",
    "    dist = 1e3\n",
    "    i = 0\n",
    "    x_k = x_0\n",
    "    while dist > ɛ and i < maxiters:\n",
    "        Df = compute_Df(f, x_k, 1e-3)[0]\n",
    "        ϕ = lambda α: f(x_k - α * Df.T)\n",
    "        α_k = secant(0.1, 0.8, ϕ)\n",
    "        x_k1 = x_k - α_k * Df.T\n",
    "        dist = la.norm(x_k1 - x_k)\n",
    "        x_k = x_k1\n",
    "        i += 1\n",
    "    if i < maxiters:\n",
    "        print(f\"Converged in {i} iterations\")\n",
    "        min_val = f(x_k)\n",
    "    else:\n",
    "        print(\"Did not converge\")\n",
    "        min_val = None\n",
    "    return x_k, min_val"
   ]
  },
  {
   "cell_type": "markdown",
   "metadata": {},
   "source": [
    "# 9.9"
   ]
  },
  {
   "cell_type": "code",
   "execution_count": 18,
   "metadata": {},
   "outputs": [
    {
     "name": "stdout",
     "output_type": "stream",
     "text": [
      "Converged in 94 iterations\n"
     ]
    }
   ],
   "source": [
    "f = lambda x: 100 * (x[1] - x[0] ** 2) ** 2 + (1 - x[0]) ** 2\n",
    "x_0 = np.array([-2, 2])\n",
    "\n",
    "(x, y), f_xy = steepest_descent(f, x_0)"
   ]
  },
  {
   "cell_type": "code",
   "execution_count": 19,
   "metadata": {},
   "outputs": [
    {
     "name": "stdout",
     "output_type": "stream",
     "text": [
      "Minimizer: ( 0.989370216532 0.978800430994 )\n",
      "Minimum: 0.000113273136867\n"
     ]
    }
   ],
   "source": [
    "print('Minimizer: (', x, y, ')')\n",
    "print('Minimum:', f_xy)"
   ]
  },
  {
   "cell_type": "code",
   "execution_count": null,
   "metadata": {
    "collapsed": true
   },
   "outputs": [],
   "source": []
  }
 ],
 "metadata": {
  "kernelspec": {
   "display_name": "Python 3",
   "language": "python",
   "name": "python3"
  },
  "language_info": {
   "codemirror_mode": {
    "name": "ipython",
    "version": 3
   },
   "file_extension": ".py",
   "mimetype": "text/x-python",
   "name": "python",
   "nbconvert_exporter": "python",
   "pygments_lexer": "ipython3",
   "version": "3.6.3"
  }
 },
 "nbformat": 4,
 "nbformat_minor": 2
}
