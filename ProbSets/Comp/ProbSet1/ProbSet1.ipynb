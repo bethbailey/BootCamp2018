{
 "cells": [
  {
   "cell_type": "markdown",
   "metadata": {},
   "source": [
    "# ProbSet1\n",
    "Bethany Bailey"
   ]
  },
  {
   "cell_type": "markdown",
   "metadata": {},
   "source": [
    "### Intro to Numpy"
   ]
  },
  {
   "cell_type": "markdown",
   "metadata": {},
   "source": [
    "### Problem 1"
   ]
  },
  {
   "cell_type": "code",
   "execution_count": 1,
   "metadata": {
    "collapsed": true
   },
   "outputs": [],
   "source": [
    "import numpy as np"
   ]
  },
  {
   "cell_type": "code",
   "execution_count": 21,
   "metadata": {
    "collapsed": true
   },
   "outputs": [],
   "source": [
    "def Problem1():\n",
    "    A = np.array( [ [3, -1, 4],[1, 5, -9] ] )\n",
    "    B = np.array( [ [2, 6, -5, 3],[5, -8, 9, 7],[9, -3, -2, -3] ] )\n",
    "    return A @ B"
   ]
  },
  {
   "cell_type": "code",
   "execution_count": 66,
   "metadata": {},
   "outputs": [
    {
     "name": "stdout",
     "output_type": "stream",
     "text": [
      "The matrix product is \n",
      " [[ 37  14 -32 -10]\n",
      " [-54  -7  58  65]]\n"
     ]
    }
   ],
   "source": [
    "print(\"The matrix product is \\n\", Problem1())"
   ]
  },
  {
   "cell_type": "markdown",
   "metadata": {},
   "source": [
    "### Problem 2"
   ]
  },
  {
   "cell_type": "code",
   "execution_count": 67,
   "metadata": {
    "collapsed": true
   },
   "outputs": [],
   "source": [
    "def Problem2():\n",
    "    A = np.array( [[3,1,4],[1,5,9],[-5,3,1]] )\n",
    "    return (- (A @ A @ A) + 9 * (A @ A) - 15 * A)"
   ]
  },
  {
   "cell_type": "code",
   "execution_count": 68,
   "metadata": {},
   "outputs": [
    {
     "name": "stdout",
     "output_type": "stream",
     "text": [
      "The answer to problem 2 is \n",
      " [[0 0 0]\n",
      " [0 0 0]\n",
      " [0 0 0]]\n"
     ]
    }
   ],
   "source": [
    "print(\"The answer to problem 2 is \\n\", Problem2())"
   ]
  },
  {
   "cell_type": "markdown",
   "metadata": {},
   "source": [
    "### Problem 3"
   ]
  },
  {
   "cell_type": "code",
   "execution_count": 69,
   "metadata": {
    "collapsed": true
   },
   "outputs": [],
   "source": [
    "def Problem3():\n",
    "    ones = np.ones((7,7))\n",
    "    A = np.triu(ones)\n",
    "    fives = ones * 5\n",
    "    negones = ones * -1\n",
    "    B1 = np.triu(fives, 1)\n",
    "    B2 = np.tril(negones)\n",
    "    B = B1 + B2\n",
    "    A = A.astype(np.int64)\n",
    "    B = B.astype(np.int64)\n",
    "    return A @ B @ A"
   ]
  },
  {
   "cell_type": "code",
   "execution_count": 70,
   "metadata": {},
   "outputs": [
    {
     "name": "stdout",
     "output_type": "stream",
     "text": [
      "The answer to problem 3 is \n",
      " [[ -7  -8  -3   8  25  48  77]\n",
      " [ -6 -12 -12  -6   6  24  48]\n",
      " [ -5 -10 -15 -14  -7   6  25]\n",
      " [ -4  -8 -12 -16 -14  -6   8]\n",
      " [ -3  -6  -9 -12 -15 -12  -3]\n",
      " [ -2  -4  -6  -8 -10 -12  -8]\n",
      " [ -1  -2  -3  -4  -5  -6  -7]]\n"
     ]
    }
   ],
   "source": [
    "print(\"The answer to problem 3 is \\n\", Problem3())"
   ]
  },
  {
   "cell_type": "markdown",
   "metadata": {},
   "source": [
    "### Problem 4"
   ]
  },
  {
   "cell_type": "code",
   "execution_count": 75,
   "metadata": {},
   "outputs": [],
   "source": [
    "def Problem4(array):\n",
    "    cp = np.copy(array)\n",
    "    mask = cp < 0\n",
    "    cp[mask] = 0\n",
    "    return cp"
   ]
  },
  {
   "cell_type": "code",
   "execution_count": 76,
   "metadata": {},
   "outputs": [
    {
     "name": "stdout",
     "output_type": "stream",
     "text": [
      "An example of the output to problem 4 with array \n",
      " [[   1    2    3]\n",
      " [  -1   -2    0]\n",
      " [   1    0 -100]] is \n",
      " [[1 2 3]\n",
      " [0 0 0]\n",
      " [1 0 0]]\n"
     ]
    }
   ],
   "source": [
    "array = np.array( [ [1,2,3], [-1, -2, 0], [1, 0, -100] ] )\n",
    "print(\"An example of the output to problem 4 with array \\n\", array, \"is \\n\", Problem4(array))"
   ]
  },
  {
   "cell_type": "markdown",
   "metadata": {},
   "source": [
    "### Problem 5"
   ]
  },
  {
   "cell_type": "code",
   "execution_count": 100,
   "metadata": {},
   "outputs": [],
   "source": [
    "def Problem5():\n",
    "    A = np.array( [ [0, 2, 4], [1, 3, 5] ])\n",
    "    B = np.array( [ [3, 0, 0], [3, 3, 0], [3, 3, 3]])\n",
    "    C = np.diag([-2, -2, -2])\n",
    "    block1 = np.vstack((np.zeros((3,3)), A, B))\n",
    "    block2 = np.vstack((A.T, np.zeros((2,2)), np.zeros((3,2))))\n",
    "    block3 = np.vstack((np.eye((3)), np.zeros((2,3)), C))\n",
    "    return np.hstack((block1, block2, block3))"
   ]
  },
  {
   "cell_type": "code",
   "execution_count": 102,
   "metadata": {},
   "outputs": [
    {
     "name": "stdout",
     "output_type": "stream",
     "text": [
      "The answer to problem 5 is \n",
      " [[ 0.  0.  0.  0.  1.  1.  0.  0.]\n",
      " [ 0.  0.  0.  2.  3.  0.  1.  0.]\n",
      " [ 0.  0.  0.  4.  5.  0.  0.  1.]\n",
      " [ 0.  2.  4.  0.  0.  0.  0.  0.]\n",
      " [ 1.  3.  5.  0.  0.  0.  0.  0.]\n",
      " [ 3.  0.  0.  0.  0. -2.  0.  0.]\n",
      " [ 3.  3.  0.  0.  0.  0. -2.  0.]\n",
      " [ 3.  3.  3.  0.  0.  0.  0. -2.]]\n"
     ]
    }
   ],
   "source": [
    "print(\"The answer to problem 5 is \\n\", Problem5())"
   ]
  },
  {
   "cell_type": "markdown",
   "metadata": {},
   "source": [
    "### Problem 6"
   ]
  },
  {
   "cell_type": "code",
   "execution_count": 165,
   "metadata": {},
   "outputs": [],
   "source": [
    "def Problem6(array):\n",
    "    sums = array.sum(axis=1).reshape((array.shape[0], 1))\n",
    "    rv = array / sums\n",
    "    return rv"
   ]
  },
  {
   "cell_type": "code",
   "execution_count": 168,
   "metadata": {},
   "outputs": [
    {
     "name": "stdout",
     "output_type": "stream",
     "text": [
      "The answer to problem 6 is \n",
      " [[ 0.25  0.75]\n",
      " [ 0.5   0.5 ]]\n"
     ]
    }
   ],
   "source": [
    "array = np.array( [ [1,3],[1,1] ] )\n",
    "print(\"The answer to problem 6 is \\n\", Problem6(array))"
   ]
  },
  {
   "cell_type": "markdown",
   "metadata": {},
   "source": [
    "### Problem 7"
   ]
  },
  {
   "cell_type": "code",
   "execution_count": 302,
   "metadata": {},
   "outputs": [],
   "source": [
    "def Problem7(array, operation):\n",
    "    if operation == \"right_diag\":\n",
    "        rv = np.max(array[:17, :17] * array[1:18, 1:18] * array[2:19, 2:19] * array[3:20, 3:20])\n",
    "    if operation == \"left_diag\":\n",
    "        rv = np.max(array[:-3, 3:] * array[1:-2, 2:-1] * array[2:-1, 1:-2] * array[3:, :-3])\n",
    "    if operation == \"horizontal\":\n",
    "        rv = np.max(array[:, :-3] * array[:, 1:-2] * array[:, 2:-1] * array[:, 3:])\n",
    "    if operation == \"vertical\":\n",
    "        rv = np.max(array[:-3, :] * array[1:-2, :] * array[2:-1, :] * array[3:, :])\n",
    "    return rv"
   ]
  },
  {
   "cell_type": "code",
   "execution_count": 303,
   "metadata": {},
   "outputs": [],
   "source": [
    "grid = np.load(\"grid.npy\")"
   ]
  },
  {
   "cell_type": "code",
   "execution_count": 304,
   "metadata": {},
   "outputs": [
    {
     "name": "stdout",
     "output_type": "stream",
     "text": [
      "The answer to problem 7 for the right diagonal is 40304286\n",
      "The answer to problem 7 for the left diagonal is 70600674\n",
      "The answer to problem 7 for the horizontal is 48477312\n",
      "The answer to problem 7 for the vertical is 51267216\n"
     ]
    }
   ],
   "source": [
    "print(\"The answer to problem 7 for the right diagonal is\", Problem7(grid, operation = \"right_diag\"))\n",
    "print(\"The answer to problem 7 for the left diagonal is\", Problem7(grid, operation = \"left_diag\"))\n",
    "print(\"The answer to problem 7 for the horizontal is\", Problem7(grid, operation = \"horizontal\"))\n",
    "print(\"The answer to problem 7 for the vertical is\", Problem7(grid, operation = \"vertical\"))"
   ]
  },
  {
   "cell_type": "markdown",
   "metadata": {},
   "source": [
    "## The Standard Library"
   ]
  },
  {
   "cell_type": "markdown",
   "metadata": {},
   "source": [
    "### Problem 1"
   ]
  },
  {
   "cell_type": "code",
   "execution_count": 280,
   "metadata": {
    "collapsed": true
   },
   "outputs": [],
   "source": [
    "def Problem1(L):\n",
    "    return (min(L), max(L), sum(L)/len(L))"
   ]
  },
  {
   "cell_type": "code",
   "execution_count": 281,
   "metadata": {},
   "outputs": [
    {
     "name": "stdout",
     "output_type": "stream",
     "text": [
      "The answer for problem 1 for list [1, 2, 3, 4] is min = 1 , max = 4 , avg = 2.5\n"
     ]
    }
   ],
   "source": [
    "L = [1, 2, 3, 4]\n",
    "answer = Problem1(L)\n",
    "print(\"The answer for problem 1 for list\", L, \"is min =\", answer[0], \", max =\", answer[1], \", avg =\", answer[2])"
   ]
  },
  {
   "cell_type": "markdown",
   "metadata": {},
   "source": [
    "### Problem 2"
   ]
  },
  {
   "cell_type": "code",
   "execution_count": 288,
   "metadata": {
    "collapsed": true
   },
   "outputs": [],
   "source": [
    "def Problem2():\n",
    "    an_int = 1\n",
    "    an_int1 = an_int\n",
    "    an_int1 += 1\n",
    "    print(\"Ints are immutable:\", an_int1 == an_int)\n",
    "    a_str = \"the\"\n",
    "    a_str1 = a_str\n",
    "    a_str1 += \" red\"\n",
    "    print(\"Strs are immutable:\", a_str1 == a_str)\n",
    "    a_list = [1, 1]\n",
    "    a_list1 = a_list\n",
    "    a_list1 += [2, 2]\n",
    "    print(\"Lists are immutable:\", a_list1 == a_list)\n",
    "    a_tuple = (1, 1)\n",
    "    a_tuple1 = a_tuple\n",
    "    a_tuple1 += (1,)\n",
    "    print(\"Tuples are immutable:\", a_tuple1 == a_tuple)\n",
    "    a_set = {1, 1}\n",
    "    a_set1 = a_set\n",
    "    a_set1.add(2)\n",
    "    print(\"Sets are immutable:\", a_set1 == a_set)"
   ]
  },
  {
   "cell_type": "code",
   "execution_count": 289,
   "metadata": {},
   "outputs": [
    {
     "name": "stdout",
     "output_type": "stream",
     "text": [
      "Ints are immutable: False\n",
      "Strs are immutable: False\n",
      "Lists are immutable: True\n",
      "Tuples are immutable: False\n",
      "Sets are immutable: True\n"
     ]
    }
   ],
   "source": [
    "Problem2()"
   ]
  },
  {
   "cell_type": "markdown",
   "metadata": {},
   "source": [
    "### Problem 3"
   ]
  },
  {
   "cell_type": "code",
   "execution_count": 297,
   "metadata": {},
   "outputs": [],
   "source": [
    "%run calculator.py"
   ]
  },
  {
   "cell_type": "code",
   "execution_count": 307,
   "metadata": {},
   "outputs": [],
   "source": [
    "def hypotenuse(l, w):\n",
    "    rv = sqrt(calc_sum(calc_product(l, l), calc_product(w, w)))\n",
    "    return rv"
   ]
  },
  {
   "cell_type": "code",
   "execution_count": 309,
   "metadata": {},
   "outputs": [
    {
     "name": "stdout",
     "output_type": "stream",
     "text": [
      "Length of hypotenuse of right triangle with length 2, width 2 is 2.8284271247461903\n"
     ]
    }
   ],
   "source": [
    "print(\"Length of hypotenuse of right triangle with length 2, width 2 is\", hypotenuse(2, 2))"
   ]
  },
  {
   "cell_type": "markdown",
   "metadata": {},
   "source": [
    "### Problem 4"
   ]
  },
  {
   "cell_type": "code",
   "execution_count": null,
   "metadata": {
    "collapsed": true
   },
   "outputs": [],
   "source": [
    "def Problem4(i):\n",
    "    "
   ]
  }
 ],
 "metadata": {
  "kernelspec": {
   "display_name": "Python 3",
   "language": "python",
   "name": "python3"
  },
  "language_info": {
   "codemirror_mode": {
    "name": "ipython",
    "version": 3
   },
   "file_extension": ".py",
   "mimetype": "text/x-python",
   "name": "python",
   "nbconvert_exporter": "python",
   "pygments_lexer": "ipython3",
   "version": "3.6.3"
  }
 },
 "nbformat": 4,
 "nbformat_minor": 2
}
