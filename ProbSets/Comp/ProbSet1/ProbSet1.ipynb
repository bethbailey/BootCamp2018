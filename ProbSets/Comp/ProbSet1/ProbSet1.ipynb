{
 "cells": [
  {
   "cell_type": "markdown",
   "metadata": {},
   "source": [
    "# ProbSet1\n",
    "Bethany Bailey"
   ]
  },
  {
   "cell_type": "markdown",
   "metadata": {},
   "source": [
    "### Intro to Numpy"
   ]
  },
  {
   "cell_type": "markdown",
   "metadata": {},
   "source": [
    "### Problem 1"
   ]
  },
  {
   "cell_type": "code",
   "execution_count": 2,
   "metadata": {
    "collapsed": true
   },
   "outputs": [],
   "source": [
    "import numpy as np"
   ]
  },
  {
   "cell_type": "code",
   "execution_count": 3,
   "metadata": {
    "collapsed": true
   },
   "outputs": [],
   "source": [
    "def Problem1():\n",
    "    A = np.array( [ [3, -1, 4],[1, 5, -9] ] )\n",
    "    B = np.array( [ [2, 6, -5, 3],[5, -8, 9, 7],[9, -3, -2, -3] ] )\n",
    "    return A @ B"
   ]
  },
  {
   "cell_type": "code",
   "execution_count": 4,
   "metadata": {},
   "outputs": [
    {
     "name": "stdout",
     "output_type": "stream",
     "text": [
      "The matrix product is \n",
      " [[ 37  14 -32 -10]\n",
      " [-54  -7  58  65]]\n"
     ]
    }
   ],
   "source": [
    "print(\"The matrix product is \\n\", Problem1())"
   ]
  },
  {
   "cell_type": "markdown",
   "metadata": {},
   "source": [
    "### Problem 2"
   ]
  },
  {
   "cell_type": "code",
   "execution_count": 5,
   "metadata": {
    "collapsed": true
   },
   "outputs": [],
   "source": [
    "def Problem2():\n",
    "    A = np.array( [[3,1,4],[1,5,9],[-5,3,1]] )\n",
    "    return (- (A @ A @ A) + 9 * (A @ A) - 15 * A)"
   ]
  },
  {
   "cell_type": "code",
   "execution_count": 6,
   "metadata": {},
   "outputs": [
    {
     "name": "stdout",
     "output_type": "stream",
     "text": [
      "The answer to problem 2 is \n",
      " [[0 0 0]\n",
      " [0 0 0]\n",
      " [0 0 0]]\n"
     ]
    }
   ],
   "source": [
    "print(\"The answer to problem 2 is \\n\", Problem2())"
   ]
  },
  {
   "cell_type": "markdown",
   "metadata": {},
   "source": [
    "### Problem 3"
   ]
  },
  {
   "cell_type": "code",
   "execution_count": 7,
   "metadata": {
    "collapsed": true
   },
   "outputs": [],
   "source": [
    "def Problem3():\n",
    "    ones = np.ones((7,7))\n",
    "    A = np.triu(ones)\n",
    "    fives = ones * 5\n",
    "    negones = ones * -1\n",
    "    B1 = np.triu(fives, 1)\n",
    "    B2 = np.tril(negones)\n",
    "    B = B1 + B2\n",
    "    A = A.astype(np.int64)\n",
    "    B = B.astype(np.int64)\n",
    "    return A @ B @ A"
   ]
  },
  {
   "cell_type": "code",
   "execution_count": 8,
   "metadata": {},
   "outputs": [
    {
     "name": "stdout",
     "output_type": "stream",
     "text": [
      "The answer to problem 3 is \n",
      " [[ -7  -8  -3   8  25  48  77]\n",
      " [ -6 -12 -12  -6   6  24  48]\n",
      " [ -5 -10 -15 -14  -7   6  25]\n",
      " [ -4  -8 -12 -16 -14  -6   8]\n",
      " [ -3  -6  -9 -12 -15 -12  -3]\n",
      " [ -2  -4  -6  -8 -10 -12  -8]\n",
      " [ -1  -2  -3  -4  -5  -6  -7]]\n"
     ]
    }
   ],
   "source": [
    "print(\"The answer to problem 3 is \\n\", Problem3())"
   ]
  },
  {
   "cell_type": "markdown",
   "metadata": {},
   "source": [
    "### Problem 4"
   ]
  },
  {
   "cell_type": "code",
   "execution_count": 14,
   "metadata": {
    "collapsed": true
   },
   "outputs": [],
   "source": [
    "def Problem4(array):\n",
    "    cp = np.copy(array)\n",
    "    mask = array < 0\n",
    "    cp[mask] = 0\n",
    "    return cp"
   ]
  },
  {
   "cell_type": "code",
   "execution_count": 15,
   "metadata": {},
   "outputs": [
    {
     "name": "stdout",
     "output_type": "stream",
     "text": [
      "An example of the output to problem 4 with array \n",
      " [[   1    2    3]\n",
      " [  -1   -2    0]\n",
      " [   1    0 -100]] is \n",
      " [[1 2 3]\n",
      " [0 0 0]\n",
      " [1 0 0]]\n"
     ]
    }
   ],
   "source": [
    "array = np.array( [ [1,2,3], [-1, -2, 0], [1, 0, -100] ] )\n",
    "print(\"An example of the output to problem 4 with array \\n\", array, \"is \\n\", Problem4(array))"
   ]
  },
  {
   "cell_type": "markdown",
   "metadata": {},
   "source": [
    "### Problem 5"
   ]
  },
  {
   "cell_type": "code",
   "execution_count": 16,
   "metadata": {
    "collapsed": true
   },
   "outputs": [],
   "source": [
    "def Problem5():\n",
    "    A = np.array( [ [0, 2, 4], [1, 3, 5] ])\n",
    "    B = np.array( [ [3, 0, 0], [3, 3, 0], [3, 3, 3]])\n",
    "    C = np.diag([-2, -2, -2])\n",
    "    block1 = np.vstack((np.zeros((3,3)), A, B))\n",
    "    block2 = np.vstack((A.T, np.zeros((2,2)), np.zeros((3,2))))\n",
    "    block3 = np.vstack((np.eye((3)), np.zeros((2,3)), C))\n",
    "    return np.hstack((block1, block2, block3))"
   ]
  },
  {
   "cell_type": "code",
   "execution_count": 17,
   "metadata": {},
   "outputs": [
    {
     "name": "stdout",
     "output_type": "stream",
     "text": [
      "The answer to problem 5 is \n",
      " [[ 0.  0.  0.  0.  1.  1.  0.  0.]\n",
      " [ 0.  0.  0.  2.  3.  0.  1.  0.]\n",
      " [ 0.  0.  0.  4.  5.  0.  0.  1.]\n",
      " [ 0.  2.  4.  0.  0.  0.  0.  0.]\n",
      " [ 1.  3.  5.  0.  0.  0.  0.  0.]\n",
      " [ 3.  0.  0.  0.  0. -2.  0.  0.]\n",
      " [ 3.  3.  0.  0.  0.  0. -2.  0.]\n",
      " [ 3.  3.  3.  0.  0.  0.  0. -2.]]\n"
     ]
    }
   ],
   "source": [
    "print(\"The answer to problem 5 is \\n\", Problem5())"
   ]
  },
  {
   "cell_type": "markdown",
   "metadata": {},
   "source": [
    "### Problem 6"
   ]
  },
  {
   "cell_type": "code",
   "execution_count": 18,
   "metadata": {
    "collapsed": true
   },
   "outputs": [],
   "source": [
    "def Problem6(array):\n",
    "    sums = array.sum(axis=1).reshape((array.shape[0], 1))\n",
    "    rv = array / sums\n",
    "    return rv"
   ]
  },
  {
   "cell_type": "code",
   "execution_count": 19,
   "metadata": {},
   "outputs": [
    {
     "name": "stdout",
     "output_type": "stream",
     "text": [
      "The answer to problem 6 is \n",
      " [[ 0.25  0.75]\n",
      " [ 0.5   0.5 ]]\n"
     ]
    }
   ],
   "source": [
    "array = np.array( [ [1,3],[1,1] ] )\n",
    "print(\"The answer to problem 6 is \\n\", Problem6(array))"
   ]
  },
  {
   "cell_type": "markdown",
   "metadata": {},
   "source": [
    "### Problem 7"
   ]
  },
  {
   "cell_type": "code",
   "execution_count": 20,
   "metadata": {
    "collapsed": true
   },
   "outputs": [],
   "source": [
    "def Problem7(array, operation):\n",
    "    if operation == \"right_diag\":\n",
    "        rv = np.max(array[:17, :17] * array[1:18, 1:18] * array[2:19, 2:19] * array[3:20, 3:20])\n",
    "    if operation == \"left_diag\":\n",
    "        rv = np.max(array[:-3, 3:] * array[1:-2, 2:-1] * array[2:-1, 1:-2] * array[3:, :-3])\n",
    "    if operation == \"horizontal\":\n",
    "        rv = np.max(array[:, :-3] * array[:, 1:-2] * array[:, 2:-1] * array[:, 3:])\n",
    "    if operation == \"vertical\":\n",
    "        rv = np.max(array[:-3, :] * array[1:-2, :] * array[2:-1, :] * array[3:, :])\n",
    "    return rv"
   ]
  },
  {
   "cell_type": "code",
   "execution_count": 21,
   "metadata": {
    "collapsed": true
   },
   "outputs": [],
   "source": [
    "grid = np.load(\"grid.npy\")"
   ]
  },
  {
   "cell_type": "code",
   "execution_count": 22,
   "metadata": {},
   "outputs": [
    {
     "name": "stdout",
     "output_type": "stream",
     "text": [
      "The answer to problem 7 for the right diagonal is 40304286\n",
      "The answer to problem 7 for the left diagonal is 70600674\n",
      "The answer to problem 7 for the horizontal is 48477312\n",
      "The answer to problem 7 for the vertical is 51267216\n"
     ]
    }
   ],
   "source": [
    "print(\"The answer to problem 7 for the right diagonal is\", Problem7(grid, operation = \"right_diag\"))\n",
    "print(\"The answer to problem 7 for the left diagonal is\", Problem7(grid, operation = \"left_diag\"))\n",
    "print(\"The answer to problem 7 for the horizontal is\", Problem7(grid, operation = \"horizontal\"))\n",
    "print(\"The answer to problem 7 for the vertical is\", Problem7(grid, operation = \"vertical\"))"
   ]
  },
  {
   "cell_type": "markdown",
   "metadata": {},
   "source": [
    "## The Standard Library"
   ]
  },
  {
   "cell_type": "markdown",
   "metadata": {},
   "source": [
    "### Problem 1"
   ]
  },
  {
   "cell_type": "code",
   "execution_count": 23,
   "metadata": {
    "collapsed": true
   },
   "outputs": [],
   "source": [
    "def Problem1(L):\n",
    "    return (min(L), max(L), sum(L)/len(L))"
   ]
  },
  {
   "cell_type": "code",
   "execution_count": 24,
   "metadata": {},
   "outputs": [
    {
     "name": "stdout",
     "output_type": "stream",
     "text": [
      "The answer for problem 1 for list [1, 2, 3, 4] is min = 1 , max = 4 , avg = 2.5\n"
     ]
    }
   ],
   "source": [
    "L = [1, 2, 3, 4]\n",
    "answer = Problem1(L)\n",
    "print(\"The answer for problem 1 for list\", L, \"is min =\", answer[0], \", max =\", answer[1], \", avg =\", answer[2])"
   ]
  },
  {
   "cell_type": "markdown",
   "metadata": {},
   "source": [
    "### Problem 2"
   ]
  },
  {
   "cell_type": "code",
   "execution_count": 25,
   "metadata": {
    "collapsed": true
   },
   "outputs": [],
   "source": [
    "def Problem2():\n",
    "    an_int = 1\n",
    "    an_int1 = an_int\n",
    "    an_int1 += 1\n",
    "    print(\"Ints are immutable:\", an_int1 == an_int)\n",
    "    a_str = \"the\"\n",
    "    a_str1 = a_str\n",
    "    a_str1 += \" red\"\n",
    "    print(\"Strs are immutable:\", a_str1 == a_str)\n",
    "    a_list = [1, 1]\n",
    "    a_list1 = a_list\n",
    "    a_list1 += [2, 2]\n",
    "    print(\"Lists are immutable:\", a_list1 == a_list)\n",
    "    a_tuple = (1, 1)\n",
    "    a_tuple1 = a_tuple\n",
    "    a_tuple1 += (1,)\n",
    "    print(\"Tuples are immutable:\", a_tuple1 == a_tuple)\n",
    "    a_set = {1, 1}\n",
    "    a_set1 = a_set\n",
    "    a_set1.add(2)\n",
    "    print(\"Sets are immutable:\", a_set1 == a_set)"
   ]
  },
  {
   "cell_type": "code",
   "execution_count": 26,
   "metadata": {},
   "outputs": [
    {
     "name": "stdout",
     "output_type": "stream",
     "text": [
      "Ints are immutable: False\n",
      "Strs are immutable: False\n",
      "Lists are immutable: True\n",
      "Tuples are immutable: False\n",
      "Sets are immutable: True\n"
     ]
    }
   ],
   "source": [
    "Problem2()"
   ]
  },
  {
   "cell_type": "markdown",
   "metadata": {},
   "source": [
    "### Problem 3"
   ]
  },
  {
   "cell_type": "code",
   "execution_count": 27,
   "metadata": {
    "collapsed": true
   },
   "outputs": [],
   "source": [
    "%run calculator.py"
   ]
  },
  {
   "cell_type": "code",
   "execution_count": 28,
   "metadata": {
    "collapsed": true
   },
   "outputs": [],
   "source": [
    "def hypotenuse(l, w):\n",
    "    rv = sqrt(calc_sum(calc_product(l, l), calc_product(w, w)))\n",
    "    return rv"
   ]
  },
  {
   "cell_type": "code",
   "execution_count": 29,
   "metadata": {},
   "outputs": [
    {
     "name": "stdout",
     "output_type": "stream",
     "text": [
      "Length of hypotenuse of right triangle with length 2, width 2 is 2.8284271247461903\n"
     ]
    }
   ],
   "source": [
    "print(\"Length of hypotenuse of right triangle with length 2, width 2 is\", hypotenuse(2, 2))"
   ]
  },
  {
   "cell_type": "markdown",
   "metadata": {},
   "source": [
    "### Problem 4"
   ]
  },
  {
   "cell_type": "code",
   "execution_count": 74,
   "metadata": {
    "collapsed": true
   },
   "outputs": [],
   "source": [
    "from itertools import combinations\n",
    "\n",
    "def Problem4(i):\n",
    "    rv = [x for l in range(len(i)+1) for x in combinations(i, l)]\n",
    "    return rv"
   ]
  },
  {
   "cell_type": "code",
   "execution_count": 75,
   "metadata": {},
   "outputs": [
    {
     "data": {
      "text/plain": [
       "[(),\n",
       " ('A',),\n",
       " ('B',),\n",
       " ('C',),\n",
       " ('A', 'B'),\n",
       " ('A', 'C'),\n",
       " ('B', 'C'),\n",
       " ('A', 'B', 'C')]"
      ]
     },
     "execution_count": 75,
     "metadata": {},
     "output_type": "execute_result"
    }
   ],
   "source": [
    "Problem4(\"ABC\")"
   ]
  },
  {
   "cell_type": "markdown",
   "metadata": {},
   "source": [
    "### Problem 5"
   ]
  },
  {
   "cell_type": "code",
   "execution_count": 77,
   "metadata": {
    "collapsed": true
   },
   "outputs": [],
   "source": [
    "%run box.py"
   ]
  },
  {
   "cell_type": "raw",
   "metadata": {},
   "source": []
  },
  {
   "cell_type": "markdown",
   "metadata": {},
   "source": [
    "## Unit Testing\n",
    "### See solutions.py and test_solutions.py for answers."
   ]
  },
  {
   "cell_type": "markdown",
   "metadata": {},
   "source": [
    "## Object-Oriented Programming\n",
    "### Problem 1"
   ]
  },
  {
   "cell_type": "code",
   "execution_count": 14,
   "metadata": {
    "collapsed": true
   },
   "outputs": [],
   "source": [
    "class Backpack:\n",
    "    \"\"\"A Backpack object class. Has a name, color, maximum size, and a list of contents.\n",
    "    Attributes:\n",
    "        name (str): the name of the backpack's owner.\n",
    "        color (str): the color of the backpack.\n",
    "        max_size (int): the maximum amount of items in the backpack.\n",
    "        contents (list): the contents of the backpack.\n",
    "    Functions:\n",
    "        put(): Add an item to the backpack.\n",
    "        take(): Remove and item from the backpack.\n",
    "        dump(): Remove all the contents from the backpack.\n",
    "    \"\"\"\n",
    "    \n",
    "    def __init__(self, name, color, max_size=5):           # This function is the constructor.\n",
    "        \"\"\"Set the name, color, and max_size and initialize an empty list of contents.\n",
    "        Parameters:\n",
    "            name (str): the name of the backpack's owner.\n",
    "            color (str): the color of the backpack.\n",
    "            max_size (int): the maximum amount of items in the backpack.\n",
    "        \"\"\"\n",
    "        self.name = name\n",
    "        self.color = color\n",
    "        self.max_size = max_size\n",
    "        self.contents = []\n",
    "    \n",
    "    def put(self, item):\n",
    "        \"\"\"Check if there is room in the backpack. If there is,\n",
    "        add 'item' to the backpack's list of contents. Else, tell the user that there is no room.\"\"\"\n",
    "        if len(self.contents) >= self.max_size:\n",
    "            print(\"No Room!\")\n",
    "            return\n",
    "        else:\n",
    "            self.contents.append(item)  # Use 'self.contents', not just 'contents'.\n",
    "        \n",
    "    def take(self, item):\n",
    "        \"\"\"Remove 'item' from the backpack's list of contents.\"\"\"\n",
    "        self.contents.remove(item)\n",
    "        \n",
    "    def dump(self):\n",
    "        \"\"\"Dump all of the contents from the backpack.\"\"\"\n",
    "        self.contents = []"
   ]
  },
  {
   "cell_type": "code",
   "execution_count": 15,
   "metadata": {
    "collapsed": true
   },
   "outputs": [],
   "source": [
    "def test_backpack():\n",
    "    testpack = Backpack(\"Barry\", \"black\")       # Instantiate the object.\n",
    "    if testpack.name != \"Barry\":                # Test an attribute.\n",
    "        print(\"Backpack.name assigned incorrectly\")\n",
    "    for item in [\"pencil\", \"pen\", \"paper\", \"computer\"]:\n",
    "        testpack.put(item)                      # Test a method.\n",
    "    print(\"Contents:\", testpack.contents)\n",
    "    testpack.take(\"pencil\")\n",
    "    print(\"Contents:\", testpack.contents)\n",
    "    testpack.dump()\n",
    "    print(\"Contents:\", testpack.contents)"
   ]
  },
  {
   "cell_type": "code",
   "execution_count": 16,
   "metadata": {},
   "outputs": [
    {
     "name": "stdout",
     "output_type": "stream",
     "text": [
      "Contents: ['pencil', 'pen', 'paper', 'computer']\n",
      "Contents: ['pen', 'paper', 'computer']\n",
      "Contents: []\n"
     ]
    }
   ],
   "source": [
    "test_backpack()"
   ]
  },
  {
   "cell_type": "markdown",
   "metadata": {},
   "source": [
    "### Problem 2"
   ]
  },
  {
   "cell_type": "code",
   "execution_count": 19,
   "metadata": {},
   "outputs": [],
   "source": [
    "# Inherit from the Backpack class in the class definition.\n",
    "class Jetpack(Backpack):\n",
    "    \"\"\"A Jetpack object class. Inherits from the Backpack class.\n",
    "    A jetpack is a fueled backpack.\n",
    "    Attributes:\n",
    "        name (str): the name of the jetpack's owner.\n",
    "        color (str): the color of the jetpack.\n",
    "        max_size (int): the maximum amount of fuel that can fit inside.\n",
    "        fuel_amount (int): how much fuel the with which the jetpack starts.\n",
    "\"\"\"\n",
    "    def __init__(self, name, color, max_size=2, fuel_amount=10):\n",
    "        \"\"\"Use the Backpack constructor to initialize the name, color,\n",
    "        and max_size attributes. A knapsack only holds 3 item by default.\n",
    "        Parameters:\n",
    "            name (str): the name of the jetpack's owner.\n",
    "            color (str): the color of the jetpack.\n",
    "            max_size (int): the maximum amount of fuel that can fit inside.\n",
    "            fuel_amount (int): how much fuel the with which the jetpack starts.\n",
    "\"\"\"\n",
    "        Backpack.__init__(self, name, color, max_size)\n",
    "        self.fuel_amount = fuel_amount\n",
    "        \n",
    "    def put(self, item):\n",
    "        \"\"\"Check if there is room in the backpack. If there is,\n",
    "        add 'item' to the backpack's list of contents. Else, tell the user that there is no room.\"\"\"\n",
    "        if len(self.contents) >= self.max_size:\n",
    "            print(\"No Room!\")\n",
    "            return\n",
    "        else:\n",
    "            self.contents.append(item)  # Use 'self.contents', not just 'contents'.\n",
    "        \n",
    "    def take(self, item):\n",
    "        \"\"\"Remove 'item' from the backpack's list of contents.\"\"\"\n",
    "        self.contents.remove(item)\n",
    "        \n",
    "    def fly(self, fuel_burned):\n",
    "        \"\"\"Check if there is enough fuel to burn. If so, burn the fuel. \n",
    "        Otherwise, let the user know there is not enough fuel.\"\"\"\n",
    "        if fuel_burned > self.fuel_amount:\n",
    "            print(\"Not enough fuel!\")\n",
    "            return\n",
    "        else:\n",
    "            self.fuel_amount = fuel_burned\n",
    "            \n",
    "    def dump(self):\n",
    "        \"\"\"Dump all of the contents and fuel from the backpack.\"\"\"\n",
    "        self.fuel_amount = []\n",
    "        self.contents = [] "
   ]
  },
  {
   "cell_type": "markdown",
   "metadata": {},
   "source": [
    "### Problem 3"
   ]
  },
  {
   "cell_type": "code",
   "execution_count": 41,
   "metadata": {
    "collapsed": true
   },
   "outputs": [],
   "source": [
    "class Backpack:\n",
    "    \"\"\"A Backpack object class. Has a name, color, maximum size, and a list of contents.\n",
    "    Attributes:\n",
    "        name (str): the name of the backpack's owner.\n",
    "        color (str): the color of the backpack.\n",
    "        max_size (int): the maximum amount of items in the backpack.\n",
    "        contents (list): the contents of the backpack.\n",
    "    Functions:\n",
    "        put(): Add an item to the backpack.\n",
    "        take(): Remove and item from the backpack.\n",
    "        dump(): Remove all the contents from the backpack.\n",
    "    \"\"\"\n",
    "    \n",
    "    def __init__(self, name, color, max_size=5):           # This function is the constructor.\n",
    "        \"\"\"Set the name, color, and max_size and initialize an empty list of contents.\n",
    "        Parameters:\n",
    "            name (str): the name of the backpack's owner.\n",
    "            color (str): the color of the backpack.\n",
    "            max_size (int): the maximum amount of items in the backpack.\n",
    "        \"\"\"\n",
    "        self.name = name\n",
    "        self.color = color\n",
    "        self.max_size = max_size\n",
    "        self.contents = []\n",
    "    \n",
    "    def put(self, item):\n",
    "        \"\"\"Check if there is room in the backpack. If there is,\n",
    "        add 'item' to the backpack's list of contents. Else, tell the user that there is no room.\"\"\"\n",
    "        if len(self.contents) >= self.max_size:\n",
    "            print(\"No Room!\")\n",
    "            return\n",
    "        else:\n",
    "            self.contents.append(item)  # Use 'self.contents', not just 'contents'.\n",
    "        \n",
    "    def take(self, item):\n",
    "        \"\"\"Remove 'item' from the backpack's list of contents.\"\"\"\n",
    "        self.contents.remove(item)\n",
    "        \n",
    "    def dump(self):\n",
    "        \"\"\"Dump all of the contents from the backpack.\"\"\"\n",
    "        self.contents = []\n",
    "        \n",
    "    def __add__(self, other):\n",
    "        \"\"\"Add the number of contents of each Backpack.\"\"\"\n",
    "        return len(self.contents) + len(other.contents)\n",
    "    \n",
    "    def __lt__(self, other):\n",
    "        \"\"\"If 'self' has fewer contents than 'other', return True.\n",
    "        Otherwise, return False.\n",
    "        \"\"\"\n",
    "        return len(self.contents) < len(other.contents)\n",
    "\n",
    "    def __eq__(self, other):\n",
    "        \"\"\"If 'self' is the same as 'other', return True.\n",
    "        Otherwise, return False.\n",
    "        \"\"\"\n",
    "        return self.name == other.name and self.color == other.color and len(self.contents) == \\\n",
    "            len(other.contents)\n",
    "    \n",
    "    def __str__(self):\n",
    "        \"\"\"Construct a return a string representation for this backpack.\"\"\"\n",
    "        return \"Owner:\\t\\t{} \\nColor:\\t\\t{} \\nSize:\\t\\t{} \\nMax Size:\\t{} \\\n",
    "            \\nContents:\\t{}\".format(self.name, self.color, len(self.contents), self.max_size, self.contents)"
   ]
  },
  {
   "cell_type": "code",
   "execution_count": 42,
   "metadata": {
    "collapsed": true
   },
   "outputs": [],
   "source": [
    "pack1 = Backpack(\"Rose\", \"red\")\n",
    "pack2 = Backpack(\"Rose\", \"red\")"
   ]
  },
  {
   "cell_type": "code",
   "execution_count": 43,
   "metadata": {},
   "outputs": [
    {
     "data": {
      "text/plain": [
       "True"
      ]
     },
     "execution_count": 43,
     "metadata": {},
     "output_type": "execute_result"
    }
   ],
   "source": [
    "pack1 == pack2"
   ]
  },
  {
   "cell_type": "code",
   "execution_count": 44,
   "metadata": {},
   "outputs": [
    {
     "name": "stdout",
     "output_type": "stream",
     "text": [
      "Owner:\t\tRose \n",
      "Color:\t\tred \n",
      "Size:\t\t0 \n",
      "Max Size:\t5             \n",
      "Contents:\t[]\n"
     ]
    }
   ],
   "source": [
    "print(pack1)"
   ]
  },
  {
   "cell_type": "markdown",
   "metadata": {},
   "source": [
    "### Problem 4"
   ]
  },
  {
   "cell_type": "code",
   "execution_count": 78,
   "metadata": {},
   "outputs": [],
   "source": [
    "class ComplexNumber:\n",
    "    \n",
    "    def __init__(self, real, imag):\n",
    "        self.real = real\n",
    "        self.imag = imag\n",
    "        \n",
    "    def conjugate(self):\n",
    "        conj = ComplexNumber(self.real, -self.imag)\n",
    "        return conj\n",
    "    \n",
    "    def __str__(self):\n",
    "        if self.imag >= 0:\n",
    "            s = \"({}+{}j)\".format(self.real, self.imag)\n",
    "        else:\n",
    "            s = \"({}{}j)\".format(self.real, self.imag)\n",
    "        return s\n",
    "            \n",
    "    def __abs__(self):\n",
    "        return (self.real**2 + self.imag ** 2) ** .5\n",
    "    \n",
    "    def __eq__(self, other):\n",
    "        return self.real == other.real and self.imag == other.imag\n",
    "    \n",
    "    def __add__(self, other):\n",
    "        new_real = self.real + other.real\n",
    "        new_imag = self.imag + other.imag\n",
    "        return ComplexNumber(new_real, new_imag)\n",
    "        \n",
    "    def __sub__(self, other):\n",
    "        new_real = self.real - other.real\n",
    "        new_imag = self.imag - other.imag\n",
    "        return ComplexNumber(new_real, new_imag)\n",
    "    \n",
    "    def __mul__(self, other):\n",
    "        new_real = self.real * other.real - self.imag * other.imag\n",
    "        new_imag = self.real * other.imag + self.imag * other.real\n",
    "        return ComplexNumber(new_real, new_imag)\n",
    "        \n",
    "    def __truediv__(self, other):\n",
    "        t = self*other.conjugate()\n",
    "        b = (other*other.conjugate()).real\n",
    "        return ComplexNumber(t.real / b, t.imag/b)"
   ]
  },
  {
   "cell_type": "code",
   "execution_count": 79,
   "metadata": {
    "collapsed": true
   },
   "outputs": [],
   "source": [
    "def test_ComplexNumber(a, b):\n",
    "    py_cnum, my_cnum = complex(a, b), ComplexNumber(a, b)\n",
    "    # Validate the constructor.\n",
    "    if my_cnum.real != a or my_cnum.imag != b:\n",
    "        print(\"__init__() set self.real and self.imag incorrectly\")\n",
    "    # Validate conjugate() by checking the new number's imag attribute.\n",
    "    if py_cnum.conjugate().imag != my_cnum.conjugate().imag:\n",
    "        print(\"conjugate() failed for\", py_cnum)\n",
    "    # Validate __str__().\n",
    "    if str(py_cnum) != str(my_cnum):\n",
    "        print(\"__str__() failed for\", py_cnum)\n",
    "    if abs(py_cnum) != abs(my_cnum):\n",
    "        print(\"__abs__() failed for\", py_cnum)\n",
    "    if my_cnum != my_cnum:\n",
    "        print(\"__eq__() failed for\", py_cnum)    \n",
    "    if py_cnum + py_cnum != my_cnum + my_cnum:\n",
    "        print(\"__add__() failed for\", py_cnum)\n",
    "    if py_cnum - py_cnum != my_cnum - my_cnum:\n",
    "        print(\"__sub__() failed for\", py_cnum)\n",
    "    if py_cnum * py_cnum != my_cnum * my_cnum:\n",
    "        print(\"__mul__() failed for\", py_cnum)    \n",
    "    if py_cnum / py_cnum != my_cnum / my_cnum:\n",
    "        print(\"__truediv__() failed for\", py_cnum)"
   ]
  },
  {
   "cell_type": "code",
   "execution_count": 81,
   "metadata": {},
   "outputs": [],
   "source": [
    "test_ComplexNumber(3, -4)\n",
    "test_ComplexNumber(2, 5)"
   ]
  },
  {
   "cell_type": "markdown",
   "metadata": {},
   "source": [
    "## Exceptions and File Input/Output"
   ]
  },
  {
   "cell_type": "markdown",
   "metadata": {},
   "source": [
    "### Problem 1"
   ]
  },
  {
   "cell_type": "markdown",
   "metadata": {},
   "source": [
    "The final number will always be 1089 because"
   ]
  },
  {
   "cell_type": "code",
   "execution_count": 51,
   "metadata": {
    "collapsed": true
   },
   "outputs": [],
   "source": [
    "def arithmagic():\n",
    "    step_1 = input(\"Enter a 3-digit number where the first and last \"\n",
    "                                           \"digits differ by 2 or more: \")\n",
    "    if len(step_1) != 3:\n",
    "        raise ValueError(\"The first number is not a 3-digit number.\")\n",
    "    if abs(int(step_1[0]) - int(step_1[2])) < 2:\n",
    "        raise ValueError(\"The first number’s first and last digits differ by less than 2.\")\n",
    "    step_2 = input(\"Enter the reverse of the first number, obtained \"\n",
    "                                              \"by reading it backwards: \")\n",
    "    if step_1[::-1] != step_2:\n",
    "        raise ValueError(\"The second number is not the reverse of the first number.\")\n",
    "    step_3 = input(\"Enter the positive difference of these numbers: \")\n",
    "    if step_3 != str(abs(int(step_1) - int(step_2))):\n",
    "        raise ValueError(\"The third number is not the positive difference of the first two numbers.\")\n",
    "    step_4 = input(\"Enter the reverse of the previous result: \")\n",
    "    if step_3[::-1] != step_4:\n",
    "        raise ValueError(\"The fourth number is not the reverse of the third number.\")\n",
    "    print(str(step_3), \"+\", str(step_4), \"= 1089 (ta-da!)\")"
   ]
  },
  {
   "cell_type": "code",
   "execution_count": 52,
   "metadata": {},
   "outputs": [
    {
     "name": "stdout",
     "output_type": "stream",
     "text": [
      "Enter a 3-digit number where the first and last digits differ by 2 or more: 103\n",
      "Enter the reverse of the first number, obtained by reading it backwards: 301\n",
      "Enter the positive difference of these numbers: 198\n",
      "Enter the reverse of the previous result: 891\n",
      "198 + 891 = 1089 (ta-da!)\n"
     ]
    }
   ],
   "source": [
    "arithmagic()"
   ]
  },
  {
   "cell_type": "markdown",
   "metadata": {},
   "source": [
    "### Problem 2"
   ]
  },
  {
   "cell_type": "code",
   "execution_count": 68,
   "metadata": {
    "collapsed": true
   },
   "outputs": [],
   "source": [
    "from random import choice\n",
    "\n",
    "def random_walk(max_iters=1e12):\n",
    "    walk = 0\n",
    "    directions = [1, -1]\n",
    "    try:\n",
    "        for i in range(int(max_iters)):\n",
    "            walk += choice(directions)\n",
    "    except KeyboardInterrupt:\n",
    "        print(\"Process interrupted at iteration\", i)\n",
    "    else:\n",
    "        print(\"Process completed.\")\n",
    "    finally:\n",
    "        return walk"
   ]
  },
  {
   "cell_type": "code",
   "execution_count": 69,
   "metadata": {},
   "outputs": [
    {
     "name": "stdout",
     "output_type": "stream",
     "text": [
      "Process interrupted at iteration 2860746435\n"
     ]
    },
    {
     "data": {
      "text/plain": [
       "-38709"
      ]
     },
     "execution_count": 69,
     "metadata": {},
     "output_type": "execute_result"
    }
   ],
   "source": [
    "random_walk()"
   ]
  },
  {
   "cell_type": "markdown",
   "metadata": {},
   "source": [
    "### Problem 3"
   ]
  },
  {
   "cell_type": "code",
   "execution_count": 240,
   "metadata": {},
   "outputs": [],
   "source": [
    "class ContentFilter():\n",
    "    \n",
    "    def __init__(self, filename):\n",
    "        self.filename = filename\n",
    "        trying = True\n",
    "        while trying:\n",
    "            try:\n",
    "                file = open(self.filename, 'r')\n",
    "                contents = file.readlines()\n",
    "                self.num_lines = len(contents)\n",
    "                trying = False\n",
    "            except (FileNotFoundError, TypeError, OSError) as e:\n",
    "                valid_name = input(\"Please enter a valid file name: \")\n",
    "                self.filename = valid_name\n",
    "        file.close()\n",
    "        self.contents = ' '.join(contents)\n",
    "        \n",
    "    def uniform(self, name, mode, case=\"upper\"):\n",
    "        if mode not in {'w', 'x', 'a'}:\n",
    "            raise ValueError(\"Mode must be 'w', 'x', or 'a'.\")\n",
    "        if case == \"upper\":\n",
    "            content = self.contents.upper()\n",
    "        elif case == \"lower\":\n",
    "            content = self.contents.lower()\n",
    "        else:\n",
    "            raise ValueError(\"Case not upper or lower.\")\n",
    "        with open(name, mode) as file:\n",
    "            file.write(content)\n",
    "            \n",
    "    def reverse(self, name, mode, unit=\"line\"):\n",
    "        if mode not in {'w', 'x', 'a'}:\n",
    "            raise ValueError(\"Mode must be 'w', 'x', or 'a'.\")\n",
    "        with open(name, mode) as file:\n",
    "            if unit == \"word\":\n",
    "                for j in range(self.num_lines):\n",
    "                    for i in self.contents[j].split(\"\\n\")[::-1]:\n",
    "                        file.write(i + \" \")\n",
    "                \n",
    "                    # file.write(\"\\n\")\n",
    "            elif unit == \"line\":\n",
    "                for i in self.contents.split(\"\\n\")[::-1]:\n",
    "                    file.write(i + \"\\n\")\n",
    "            else:\n",
    "                raise ValueError(\"Unit not line or word.\")\n",
    "            \n",
    "    def transpose(self, name, mode):\n",
    "        if mode not in {'w', 'x', 'a'}:\n",
    "            raise ValueError(\"Mode must be 'w', 'x', or 'a'.\")\n",
    "        with open(name, mode) as file:\n",
    "            for i in range(len(self.contents[0].split())):\n",
    "                new_line = []\n",
    "                for j in range(len(self.contents)):\n",
    "                    content = self.contents[j].split()\n",
    "                    new_line.append(content[i])\n",
    "                file.write(\" \".join(new_line) + \"\\n\")"
   ]
  },
  {
   "cell_type": "code",
   "execution_count": 241,
   "metadata": {},
   "outputs": [],
   "source": [
    "t = ContentFilter(\"testfile.txt\")"
   ]
  },
  {
   "cell_type": "code",
   "execution_count": 242,
   "metadata": {},
   "outputs": [
    {
     "data": {
      "text/plain": [
       "'This is a test file.\\n \\n It has multiple lines of code.\\n \\n This is the end of the test file.'"
      ]
     },
     "execution_count": 242,
     "metadata": {},
     "output_type": "execute_result"
    }
   ],
   "source": [
    "t.contents"
   ]
  },
  {
   "cell_type": "code",
   "execution_count": 243,
   "metadata": {},
   "outputs": [],
   "source": [
    "t.reverse(\"test2.txt\", \"w\", unit=\"word\")"
   ]
  },
  {
   "cell_type": "code",
   "execution_count": 203,
   "metadata": {
    "collapsed": true
   },
   "outputs": [],
   "source": [
    "s = 'This is a test file.\\n\\nIt has multiple lines of code.\\n\\nThis is the end of the test file.'"
   ]
  },
  {
   "cell_type": "code",
   "execution_count": 128,
   "metadata": {},
   "outputs": [
    {
     "data": {
      "text/plain": [
       "['This is the end of the test file.',\n",
       " '',\n",
       " 'It has multiple lines of code.',\n",
       " '',\n",
       " 'This is a test file.']"
      ]
     },
     "execution_count": 128,
     "metadata": {},
     "output_type": "execute_result"
    }
   ],
   "source": [
    "s.split(\"\\n\")[::-1]"
   ]
  },
  {
   "cell_type": "code",
   "execution_count": null,
   "metadata": {
    "collapsed": true
   },
   "outputs": [],
   "source": []
  }
 ],
 "metadata": {
  "kernelspec": {
   "display_name": "Python 3",
   "language": "python",
   "name": "python3"
  },
  "language_info": {
   "codemirror_mode": {
    "name": "ipython",
    "version": 3
   },
   "file_extension": ".py",
   "mimetype": "text/x-python",
   "name": "python",
   "nbconvert_exporter": "python",
   "pygments_lexer": "ipython3",
   "version": "3.6.3"
  }
 },
 "nbformat": 4,
 "nbformat_minor": 2
}
